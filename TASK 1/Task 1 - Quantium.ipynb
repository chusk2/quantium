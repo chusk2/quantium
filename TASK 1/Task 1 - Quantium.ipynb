{
 "cells": [
  {
   "cell_type": "markdown",
   "id": "929b3130-bb43-4c7b-a915-cad73f681982",
   "metadata": {},
   "source": [
    "## Task 1 - Quantium"
   ]
  },
  {
   "cell_type": "code",
   "execution_count": 1,
   "id": "b5a4d847-0676-4944-96d6-f05582bcd23d",
   "metadata": {},
   "outputs": [],
   "source": [
    "import pandas as pd\n",
    "import numpy as np"
   ]
  },
  {
   "cell_type": "markdown",
   "id": "166c56fc-af4e-4cdf-888f-0f2d1858b582",
   "metadata": {},
   "source": [
    "## Inspect and clean `purchase_behaviour` data2set"
   ]
  },
  {
   "cell_type": "code",
   "execution_count": 2,
   "id": "7bc18264-7708-4f1e-9af4-4354e6abef49",
   "metadata": {},
   "outputs": [],
   "source": [
    "data1 = pd.read_csv('data/purchase_behaviour.csv')"
   ]
  },
  {
   "cell_type": "code",
   "execution_count": 3,
   "id": "4ea075cc-e526-406d-88ee-9dbbf8f91951",
   "metadata": {},
   "outputs": [
    {
     "data": {
      "text/html": [
       "<div>\n",
       "<style scoped>\n",
       "    .dataframe tbody tr th:only-of-type {\n",
       "        vertical-align: middle;\n",
       "    }\n",
       "\n",
       "    .dataframe tbody tr th {\n",
       "        vertical-align: top;\n",
       "    }\n",
       "\n",
       "    .dataframe thead th {\n",
       "        text-align: right;\n",
       "    }\n",
       "</style>\n",
       "<table border=\"1\" class=\"dataframe\">\n",
       "  <thead>\n",
       "    <tr style=\"text-align: right;\">\n",
       "      <th></th>\n",
       "      <th>LYLTY_CARD_NBR</th>\n",
       "      <th>LIFESTAGE</th>\n",
       "      <th>PREMIUM_CUSTOMER</th>\n",
       "    </tr>\n",
       "  </thead>\n",
       "  <tbody>\n",
       "    <tr>\n",
       "      <th>0</th>\n",
       "      <td>1000</td>\n",
       "      <td>YOUNG SINGLES/COUPLES</td>\n",
       "      <td>Premium</td>\n",
       "    </tr>\n",
       "    <tr>\n",
       "      <th>1</th>\n",
       "      <td>1002</td>\n",
       "      <td>YOUNG SINGLES/COUPLES</td>\n",
       "      <td>Mainstream</td>\n",
       "    </tr>\n",
       "    <tr>\n",
       "      <th>2</th>\n",
       "      <td>1003</td>\n",
       "      <td>YOUNG FAMILIES</td>\n",
       "      <td>Budget</td>\n",
       "    </tr>\n",
       "    <tr>\n",
       "      <th>3</th>\n",
       "      <td>1004</td>\n",
       "      <td>OLDER SINGLES/COUPLES</td>\n",
       "      <td>Mainstream</td>\n",
       "    </tr>\n",
       "    <tr>\n",
       "      <th>4</th>\n",
       "      <td>1005</td>\n",
       "      <td>MIDAGE SINGLES/COUPLES</td>\n",
       "      <td>Mainstream</td>\n",
       "    </tr>\n",
       "  </tbody>\n",
       "</table>\n",
       "</div>"
      ],
      "text/plain": [
       "   LYLTY_CARD_NBR               LIFESTAGE PREMIUM_CUSTOMER\n",
       "0            1000   YOUNG SINGLES/COUPLES          Premium\n",
       "1            1002   YOUNG SINGLES/COUPLES       Mainstream\n",
       "2            1003          YOUNG FAMILIES           Budget\n",
       "3            1004   OLDER SINGLES/COUPLES       Mainstream\n",
       "4            1005  MIDAGE SINGLES/COUPLES       Mainstream"
      ]
     },
     "execution_count": 3,
     "metadata": {},
     "output_type": "execute_result"
    }
   ],
   "source": [
    "data1.head()"
   ]
  },
  {
   "cell_type": "markdown",
   "id": "f2cd4acc-621c-4335-b8b1-3b9c0012d340",
   "metadata": {},
   "source": [
    "## Rename and lowercase the column names"
   ]
  },
  {
   "cell_type": "code",
   "execution_count": 4,
   "id": "b372a781-c8af-405e-a80c-f30525b80824",
   "metadata": {},
   "outputs": [],
   "source": [
    "data1.columns = ['loyalty_card_num', 'lifestage', 'premium_customer']"
   ]
  },
  {
   "cell_type": "code",
   "execution_count": 5,
   "id": "ae34cbe9-f983-4c46-9d85-b865ac7cbdc3",
   "metadata": {},
   "outputs": [],
   "source": [
    "data1.lifestage = data1.lifestage.str.lower()"
   ]
  },
  {
   "cell_type": "code",
   "execution_count": 6,
   "id": "76e3de3e-1222-4ca3-a4c3-34fac5f63927",
   "metadata": {},
   "outputs": [],
   "source": [
    "data1.lifestage = data1.lifestage.str.replace('/' , ' / ') "
   ]
  },
  {
   "cell_type": "code",
   "execution_count": 7,
   "id": "094fb0a1-10a3-47a7-a6e3-e4f5798e0561",
   "metadata": {},
   "outputs": [],
   "source": [
    "data1.premium_customer = data1.premium_customer.str.lower()"
   ]
  },
  {
   "cell_type": "markdown",
   "id": "d2e05cbf-7d23-4ce4-a555-cb0b3c84f2d3",
   "metadata": {},
   "source": [
    "## Check nulls and unique values"
   ]
  },
  {
   "cell_type": "code",
   "execution_count": 8,
   "id": "51f7058a-08b3-481e-b1de-d4bba9fcb385",
   "metadata": {},
   "outputs": [
    {
     "data": {
      "text/plain": [
       "array(['young singles / couples', 'young families',\n",
       "       'older singles / couples', 'midage singles / couples',\n",
       "       'new families', 'older families', 'retirees'], dtype=object)"
      ]
     },
     "execution_count": 8,
     "metadata": {},
     "output_type": "execute_result"
    }
   ],
   "source": [
    "data1.lifestage.unique()"
   ]
  },
  {
   "cell_type": "code",
   "execution_count": 9,
   "id": "aff91588-d84d-4d38-8f2f-b8473fb74276",
   "metadata": {},
   "outputs": [
    {
     "data": {
      "text/plain": [
       "array(['young singles / couples', 'young families',\n",
       "       'older singles / couples', 'midage singles / couples',\n",
       "       'new families', 'older families', 'retirees'], dtype=object)"
      ]
     },
     "execution_count": 9,
     "metadata": {},
     "output_type": "execute_result"
    }
   ],
   "source": [
    "data1.lifestage.unique()"
   ]
  },
  {
   "cell_type": "code",
   "execution_count": 10,
   "id": "de49f607-74d2-4a75-987f-296082c4b044",
   "metadata": {},
   "outputs": [
    {
     "data": {
      "text/plain": [
       "array(['premium', 'mainstream', 'budget'], dtype=object)"
      ]
     },
     "execution_count": 10,
     "metadata": {},
     "output_type": "execute_result"
    }
   ],
   "source": [
    "data1.premium_customer.unique()"
   ]
  },
  {
   "cell_type": "code",
   "execution_count": 11,
   "id": "87f01b14-ecf9-4ec9-9873-97b2e70f5a05",
   "metadata": {},
   "outputs": [
    {
     "data": {
      "text/plain": [
       "loyalty_card_num    0\n",
       "lifestage           0\n",
       "premium_customer    0\n",
       "dtype: int64"
      ]
     },
     "execution_count": 11,
     "metadata": {},
     "output_type": "execute_result"
    }
   ],
   "source": [
    "data1.isnull().sum()"
   ]
  },
  {
   "cell_type": "markdown",
   "id": "bdc42fc4-54a9-41c5-b93f-3e070caaca13",
   "metadata": {},
   "source": [
    "## Check dtypes"
   ]
  },
  {
   "cell_type": "code",
   "execution_count": 12,
   "id": "364dee57-a523-46a2-b018-0fcce22f3663",
   "metadata": {},
   "outputs": [
    {
     "data": {
      "text/plain": [
       "loyalty_card_num     int64\n",
       "lifestage           object\n",
       "premium_customer    object\n",
       "dtype: object"
      ]
     },
     "execution_count": 12,
     "metadata": {},
     "output_type": "execute_result"
    }
   ],
   "source": [
    "data1.dtypes"
   ]
  },
  {
   "cell_type": "markdown",
   "id": "6a30c398-2dc3-4dda-976b-bd32a804c0eb",
   "metadata": {},
   "source": [
    "## Take a sample and check the dataset values"
   ]
  },
  {
   "cell_type": "code",
   "execution_count": 13,
   "id": "48b7a5a2-28c3-4592-a151-3e491c0ea842",
   "metadata": {},
   "outputs": [
    {
     "data": {
      "text/html": [
       "<div>\n",
       "<style scoped>\n",
       "    .dataframe tbody tr th:only-of-type {\n",
       "        vertical-align: middle;\n",
       "    }\n",
       "\n",
       "    .dataframe tbody tr th {\n",
       "        vertical-align: top;\n",
       "    }\n",
       "\n",
       "    .dataframe thead th {\n",
       "        text-align: right;\n",
       "    }\n",
       "</style>\n",
       "<table border=\"1\" class=\"dataframe\">\n",
       "  <thead>\n",
       "    <tr style=\"text-align: right;\">\n",
       "      <th></th>\n",
       "      <th>loyalty_card_num</th>\n",
       "      <th>lifestage</th>\n",
       "      <th>premium_customer</th>\n",
       "    </tr>\n",
       "  </thead>\n",
       "  <tbody>\n",
       "    <tr>\n",
       "      <th>71560</th>\n",
       "      <td>268464</td>\n",
       "      <td>older families</td>\n",
       "      <td>budget</td>\n",
       "    </tr>\n",
       "    <tr>\n",
       "      <th>49940</th>\n",
       "      <td>186423</td>\n",
       "      <td>young singles / couples</td>\n",
       "      <td>premium</td>\n",
       "    </tr>\n",
       "    <tr>\n",
       "      <th>24462</th>\n",
       "      <td>88373</td>\n",
       "      <td>older singles / couples</td>\n",
       "      <td>mainstream</td>\n",
       "    </tr>\n",
       "    <tr>\n",
       "      <th>24826</th>\n",
       "      <td>90035</td>\n",
       "      <td>retirees</td>\n",
       "      <td>premium</td>\n",
       "    </tr>\n",
       "    <tr>\n",
       "      <th>8770</th>\n",
       "      <td>32175</td>\n",
       "      <td>young families</td>\n",
       "      <td>premium</td>\n",
       "    </tr>\n",
       "    <tr>\n",
       "      <th>31376</th>\n",
       "      <td>115349</td>\n",
       "      <td>young singles / couples</td>\n",
       "      <td>premium</td>\n",
       "    </tr>\n",
       "    <tr>\n",
       "      <th>45071</th>\n",
       "      <td>169183</td>\n",
       "      <td>retirees</td>\n",
       "      <td>budget</td>\n",
       "    </tr>\n",
       "    <tr>\n",
       "      <th>12257</th>\n",
       "      <td>46059</td>\n",
       "      <td>young families</td>\n",
       "      <td>mainstream</td>\n",
       "    </tr>\n",
       "    <tr>\n",
       "      <th>29179</th>\n",
       "      <td>107101</td>\n",
       "      <td>young families</td>\n",
       "      <td>mainstream</td>\n",
       "    </tr>\n",
       "    <tr>\n",
       "      <th>25080</th>\n",
       "      <td>90409</td>\n",
       "      <td>older singles / couples</td>\n",
       "      <td>budget</td>\n",
       "    </tr>\n",
       "    <tr>\n",
       "      <th>15499</th>\n",
       "      <td>57115</td>\n",
       "      <td>young singles / couples</td>\n",
       "      <td>premium</td>\n",
       "    </tr>\n",
       "    <tr>\n",
       "      <th>23229</th>\n",
       "      <td>83220</td>\n",
       "      <td>retirees</td>\n",
       "      <td>mainstream</td>\n",
       "    </tr>\n",
       "    <tr>\n",
       "      <th>26556</th>\n",
       "      <td>96230</td>\n",
       "      <td>young families</td>\n",
       "      <td>budget</td>\n",
       "    </tr>\n",
       "    <tr>\n",
       "      <th>48015</th>\n",
       "      <td>180035</td>\n",
       "      <td>older families</td>\n",
       "      <td>premium</td>\n",
       "    </tr>\n",
       "    <tr>\n",
       "      <th>42777</th>\n",
       "      <td>162003</td>\n",
       "      <td>older singles / couples</td>\n",
       "      <td>mainstream</td>\n",
       "    </tr>\n",
       "  </tbody>\n",
       "</table>\n",
       "</div>"
      ],
      "text/plain": [
       "       loyalty_card_num                lifestage premium_customer\n",
       "71560            268464           older families           budget\n",
       "49940            186423  young singles / couples          premium\n",
       "24462             88373  older singles / couples       mainstream\n",
       "24826             90035                 retirees          premium\n",
       "8770              32175           young families          premium\n",
       "31376            115349  young singles / couples          premium\n",
       "45071            169183                 retirees           budget\n",
       "12257             46059           young families       mainstream\n",
       "29179            107101           young families       mainstream\n",
       "25080             90409  older singles / couples           budget\n",
       "15499             57115  young singles / couples          premium\n",
       "23229             83220                 retirees       mainstream\n",
       "26556             96230           young families           budget\n",
       "48015            180035           older families          premium\n",
       "42777            162003  older singles / couples       mainstream"
      ]
     },
     "execution_count": 13,
     "metadata": {},
     "output_type": "execute_result"
    }
   ],
   "source": [
    "data1.sample(15)"
   ]
  },
  {
   "cell_type": "markdown",
   "id": "1a2cea8c-02d1-436f-8076-166c3dccb28f",
   "metadata": {},
   "source": [
    "## It looks clean. Save it to a csv file"
   ]
  },
  {
   "cell_type": "code",
   "execution_count": 14,
   "id": "865b6c04-ed0d-4165-8480-452663216064",
   "metadata": {},
   "outputs": [],
   "source": [
    "data1.to_csv('data/purchase_behaviour_clean.csv', index=False)"
   ]
  },
  {
   "cell_type": "markdown",
   "id": "2a0c7d10-75b0-4aaf-8da7-586c346449ea",
   "metadata": {},
   "source": [
    "## Import transaction data"
   ]
  },
  {
   "cell_type": "markdown",
   "id": "4f4b9dda-e4b8-49ce-8683-618cefb66fb9",
   "metadata": {},
   "source": [
    "### Warning: import process may take some time, depending on the power of the computer. It took me about 20 seconds. It's a large file."
   ]
  },
  {
   "cell_type": "code",
   "execution_count": 72,
   "id": "cb6e57a1-4816-4598-ba13-5a9798f8be76",
   "metadata": {},
   "outputs": [],
   "source": [
    "data2 = pd.read_excel('data/transaction_data.xlsx')"
   ]
  },
  {
   "cell_type": "code",
   "execution_count": 73,
   "id": "faa990b3-8121-4f07-a4d2-d0d7190c87dc",
   "metadata": {},
   "outputs": [
    {
     "data": {
      "text/html": [
       "<div>\n",
       "<style scoped>\n",
       "    .dataframe tbody tr th:only-of-type {\n",
       "        vertical-align: middle;\n",
       "    }\n",
       "\n",
       "    .dataframe tbody tr th {\n",
       "        vertical-align: top;\n",
       "    }\n",
       "\n",
       "    .dataframe thead th {\n",
       "        text-align: right;\n",
       "    }\n",
       "</style>\n",
       "<table border=\"1\" class=\"dataframe\">\n",
       "  <thead>\n",
       "    <tr style=\"text-align: right;\">\n",
       "      <th></th>\n",
       "      <th>DATE</th>\n",
       "      <th>STORE_NBR</th>\n",
       "      <th>LYLTY_CARD_NBR</th>\n",
       "      <th>TXN_ID</th>\n",
       "      <th>PROD_NBR</th>\n",
       "      <th>PROD_NAME</th>\n",
       "      <th>PROD_QTY</th>\n",
       "      <th>TOT_SALES</th>\n",
       "    </tr>\n",
       "  </thead>\n",
       "  <tbody>\n",
       "    <tr>\n",
       "      <th>0</th>\n",
       "      <td>43390</td>\n",
       "      <td>1</td>\n",
       "      <td>1000</td>\n",
       "      <td>1</td>\n",
       "      <td>5</td>\n",
       "      <td>Natural Chip        Compny SeaSalt175g</td>\n",
       "      <td>2</td>\n",
       "      <td>6.0</td>\n",
       "    </tr>\n",
       "    <tr>\n",
       "      <th>1</th>\n",
       "      <td>43599</td>\n",
       "      <td>1</td>\n",
       "      <td>1307</td>\n",
       "      <td>348</td>\n",
       "      <td>66</td>\n",
       "      <td>CCs Nacho Cheese    175g</td>\n",
       "      <td>3</td>\n",
       "      <td>6.3</td>\n",
       "    </tr>\n",
       "    <tr>\n",
       "      <th>2</th>\n",
       "      <td>43605</td>\n",
       "      <td>1</td>\n",
       "      <td>1343</td>\n",
       "      <td>383</td>\n",
       "      <td>61</td>\n",
       "      <td>Smiths Crinkle Cut  Chips Chicken 170g</td>\n",
       "      <td>2</td>\n",
       "      <td>2.9</td>\n",
       "    </tr>\n",
       "    <tr>\n",
       "      <th>3</th>\n",
       "      <td>43329</td>\n",
       "      <td>2</td>\n",
       "      <td>2373</td>\n",
       "      <td>974</td>\n",
       "      <td>69</td>\n",
       "      <td>Smiths Chip Thinly  S/Cream&amp;Onion 175g</td>\n",
       "      <td>5</td>\n",
       "      <td>15.0</td>\n",
       "    </tr>\n",
       "    <tr>\n",
       "      <th>4</th>\n",
       "      <td>43330</td>\n",
       "      <td>2</td>\n",
       "      <td>2426</td>\n",
       "      <td>1038</td>\n",
       "      <td>108</td>\n",
       "      <td>Kettle Tortilla ChpsHny&amp;Jlpno Chili 150g</td>\n",
       "      <td>3</td>\n",
       "      <td>13.8</td>\n",
       "    </tr>\n",
       "  </tbody>\n",
       "</table>\n",
       "</div>"
      ],
      "text/plain": [
       "    DATE  STORE_NBR  LYLTY_CARD_NBR  TXN_ID  PROD_NBR  \\\n",
       "0  43390          1            1000       1         5   \n",
       "1  43599          1            1307     348        66   \n",
       "2  43605          1            1343     383        61   \n",
       "3  43329          2            2373     974        69   \n",
       "4  43330          2            2426    1038       108   \n",
       "\n",
       "                                  PROD_NAME  PROD_QTY  TOT_SALES  \n",
       "0    Natural Chip        Compny SeaSalt175g         2        6.0  \n",
       "1                  CCs Nacho Cheese    175g         3        6.3  \n",
       "2    Smiths Crinkle Cut  Chips Chicken 170g         2        2.9  \n",
       "3    Smiths Chip Thinly  S/Cream&Onion 175g         5       15.0  \n",
       "4  Kettle Tortilla ChpsHny&Jlpno Chili 150g         3       13.8  "
      ]
     },
     "execution_count": 73,
     "metadata": {},
     "output_type": "execute_result"
    }
   ],
   "source": [
    "data2.head()"
   ]
  },
  {
   "cell_type": "markdown",
   "id": "0afd09fd-73e7-4567-bf80-04315f385036",
   "metadata": {},
   "source": [
    "## Rename column names and lowercase"
   ]
  },
  {
   "cell_type": "code",
   "execution_count": 74,
   "id": "21e5526a-f530-4dd7-afea-22e434650450",
   "metadata": {},
   "outputs": [],
   "source": [
    "data2.columns = [i.lower() for i in data2.columns]\n",
    "data2 = data2.rename(columns = {'store_nbr' : 'store_num', 'lylty_card_nbr' : 'loyalty_card_num', 'prod_name' : 'product_name' , 'prod_nbr' : 'product_number', 'prod_qty' : 'product_quantity', 'tot_sales' : 'total_sales'})"
   ]
  },
  {
   "cell_type": "code",
   "execution_count": 75,
   "id": "a02caa8e-6e63-49a8-82b2-e273782bc3af",
   "metadata": {},
   "outputs": [
    {
     "data": {
      "text/html": [
       "<div>\n",
       "<style scoped>\n",
       "    .dataframe tbody tr th:only-of-type {\n",
       "        vertical-align: middle;\n",
       "    }\n",
       "\n",
       "    .dataframe tbody tr th {\n",
       "        vertical-align: top;\n",
       "    }\n",
       "\n",
       "    .dataframe thead th {\n",
       "        text-align: right;\n",
       "    }\n",
       "</style>\n",
       "<table border=\"1\" class=\"dataframe\">\n",
       "  <thead>\n",
       "    <tr style=\"text-align: right;\">\n",
       "      <th></th>\n",
       "      <th>date</th>\n",
       "      <th>store_num</th>\n",
       "      <th>loyalty_card_num</th>\n",
       "      <th>txn_id</th>\n",
       "      <th>product_number</th>\n",
       "      <th>product_name</th>\n",
       "      <th>product_quantity</th>\n",
       "      <th>total_sales</th>\n",
       "    </tr>\n",
       "  </thead>\n",
       "  <tbody>\n",
       "    <tr>\n",
       "      <th>41227</th>\n",
       "      <td>43409</td>\n",
       "      <td>101</td>\n",
       "      <td>101145</td>\n",
       "      <td>100869</td>\n",
       "      <td>28</td>\n",
       "      <td>Thins Potato Chips  Hot &amp; Spicy 175g</td>\n",
       "      <td>2</td>\n",
       "      <td>6.6</td>\n",
       "    </tr>\n",
       "    <tr>\n",
       "      <th>215072</th>\n",
       "      <td>43495</td>\n",
       "      <td>230</td>\n",
       "      <td>230012</td>\n",
       "      <td>231965</td>\n",
       "      <td>111</td>\n",
       "      <td>Smiths Chip Thinly  Cut Original 175g</td>\n",
       "      <td>2</td>\n",
       "      <td>6.0</td>\n",
       "    </tr>\n",
       "    <tr>\n",
       "      <th>252550</th>\n",
       "      <td>43471</td>\n",
       "      <td>190</td>\n",
       "      <td>190083</td>\n",
       "      <td>190731</td>\n",
       "      <td>62</td>\n",
       "      <td>Pringles Mystery    Flavour 134g</td>\n",
       "      <td>2</td>\n",
       "      <td>7.4</td>\n",
       "    </tr>\n",
       "    <tr>\n",
       "      <th>203854</th>\n",
       "      <td>43571</td>\n",
       "      <td>270</td>\n",
       "      <td>270173</td>\n",
       "      <td>267779</td>\n",
       "      <td>20</td>\n",
       "      <td>Doritos Cheese      Supreme 330g</td>\n",
       "      <td>2</td>\n",
       "      <td>11.4</td>\n",
       "    </tr>\n",
       "    <tr>\n",
       "      <th>125588</th>\n",
       "      <td>43480</td>\n",
       "      <td>116</td>\n",
       "      <td>116238</td>\n",
       "      <td>120599</td>\n",
       "      <td>75</td>\n",
       "      <td>Cobs Popd Sea Salt  Chips 110g</td>\n",
       "      <td>2</td>\n",
       "      <td>7.6</td>\n",
       "    </tr>\n",
       "    <tr>\n",
       "      <th>168919</th>\n",
       "      <td>43636</td>\n",
       "      <td>231</td>\n",
       "      <td>231255</td>\n",
       "      <td>234730</td>\n",
       "      <td>47</td>\n",
       "      <td>Doritos Corn Chips  Original 170g</td>\n",
       "      <td>2</td>\n",
       "      <td>8.8</td>\n",
       "    </tr>\n",
       "    <tr>\n",
       "      <th>136811</th>\n",
       "      <td>43470</td>\n",
       "      <td>20</td>\n",
       "      <td>20392</td>\n",
       "      <td>17385</td>\n",
       "      <td>16</td>\n",
       "      <td>Smiths Crinkle Chips Salt &amp; Vinegar 330g</td>\n",
       "      <td>1</td>\n",
       "      <td>5.7</td>\n",
       "    </tr>\n",
       "    <tr>\n",
       "      <th>217910</th>\n",
       "      <td>43520</td>\n",
       "      <td>19</td>\n",
       "      <td>19184</td>\n",
       "      <td>16416</td>\n",
       "      <td>36</td>\n",
       "      <td>Kettle Chilli 175g</td>\n",
       "      <td>2</td>\n",
       "      <td>10.8</td>\n",
       "    </tr>\n",
       "    <tr>\n",
       "      <th>227153</th>\n",
       "      <td>43450</td>\n",
       "      <td>231</td>\n",
       "      <td>231295</td>\n",
       "      <td>234862</td>\n",
       "      <td>78</td>\n",
       "      <td>Thins Chips Salt &amp;  Vinegar 175g</td>\n",
       "      <td>2</td>\n",
       "      <td>6.6</td>\n",
       "    </tr>\n",
       "    <tr>\n",
       "      <th>34965</th>\n",
       "      <td>43451</td>\n",
       "      <td>32</td>\n",
       "      <td>32002</td>\n",
       "      <td>27994</td>\n",
       "      <td>56</td>\n",
       "      <td>Cheezels Cheese Box 125g</td>\n",
       "      <td>2</td>\n",
       "      <td>4.2</td>\n",
       "    </tr>\n",
       "  </tbody>\n",
       "</table>\n",
       "</div>"
      ],
      "text/plain": [
       "         date  store_num  loyalty_card_num  txn_id  product_number  \\\n",
       "41227   43409        101            101145  100869              28   \n",
       "215072  43495        230            230012  231965             111   \n",
       "252550  43471        190            190083  190731              62   \n",
       "203854  43571        270            270173  267779              20   \n",
       "125588  43480        116            116238  120599              75   \n",
       "168919  43636        231            231255  234730              47   \n",
       "136811  43470         20             20392   17385              16   \n",
       "217910  43520         19             19184   16416              36   \n",
       "227153  43450        231            231295  234862              78   \n",
       "34965   43451         32             32002   27994              56   \n",
       "\n",
       "                                    product_name  product_quantity  \\\n",
       "41227       Thins Potato Chips  Hot & Spicy 175g                 2   \n",
       "215072     Smiths Chip Thinly  Cut Original 175g                 2   \n",
       "252550          Pringles Mystery    Flavour 134g                 2   \n",
       "203854          Doritos Cheese      Supreme 330g                 2   \n",
       "125588            Cobs Popd Sea Salt  Chips 110g                 2   \n",
       "168919         Doritos Corn Chips  Original 170g                 2   \n",
       "136811  Smiths Crinkle Chips Salt & Vinegar 330g                 1   \n",
       "217910                        Kettle Chilli 175g                 2   \n",
       "227153          Thins Chips Salt &  Vinegar 175g                 2   \n",
       "34965                   Cheezels Cheese Box 125g                 2   \n",
       "\n",
       "        total_sales  \n",
       "41227           6.6  \n",
       "215072          6.0  \n",
       "252550          7.4  \n",
       "203854         11.4  \n",
       "125588          7.6  \n",
       "168919          8.8  \n",
       "136811          5.7  \n",
       "217910         10.8  \n",
       "227153          6.6  \n",
       "34965           4.2  "
      ]
     },
     "execution_count": 75,
     "metadata": {},
     "output_type": "execute_result"
    }
   ],
   "source": [
    "data2.sample(10)"
   ]
  },
  {
   "cell_type": "markdown",
   "id": "9f1f228e-f336-40ca-be8c-4568549059b6",
   "metadata": {},
   "source": [
    "## Check dtypes and missing values"
   ]
  },
  {
   "cell_type": "code",
   "execution_count": 76,
   "id": "7cb7aa26-a2ce-40ba-82e9-61ba2e584acb",
   "metadata": {},
   "outputs": [
    {
     "data": {
      "text/plain": [
       "date                  int64\n",
       "store_num             int64\n",
       "loyalty_card_num      int64\n",
       "txn_id                int64\n",
       "product_number        int64\n",
       "product_name         object\n",
       "product_quantity      int64\n",
       "total_sales         float64\n",
       "dtype: object"
      ]
     },
     "execution_count": 76,
     "metadata": {},
     "output_type": "execute_result"
    }
   ],
   "source": [
    "data2.dtypes"
   ]
  },
  {
   "cell_type": "markdown",
   "id": "c6c2bb46-cf11-49dd-b83a-945d8100aff2",
   "metadata": {},
   "source": [
    "`date` should have been imported in date format. I will go up and fix the import statement.  \n",
    "Back from import statement, the values in the `date` column are integers. They are in the format of times passed since 30th December 1899. I use the proper parameter in `pd.to_datetime()`"
   ]
  },
  {
   "cell_type": "code",
   "execution_count": 77,
   "id": "cad83f50-38b4-48f6-973c-86d535d9a6e4",
   "metadata": {},
   "outputs": [],
   "source": [
    "data2.date = pd.to_datetime(data2['date'], unit='d', origin='1899-12-30')"
   ]
  },
  {
   "cell_type": "code",
   "execution_count": 78,
   "id": "5a872dbe-5c0b-4873-8509-691ec7844c7e",
   "metadata": {},
   "outputs": [
    {
     "data": {
      "text/plain": [
       "date                datetime64[ns]\n",
       "store_num                    int64\n",
       "loyalty_card_num             int64\n",
       "txn_id                       int64\n",
       "product_number               int64\n",
       "product_name                object\n",
       "product_quantity             int64\n",
       "total_sales                float64\n",
       "dtype: object"
      ]
     },
     "execution_count": 78,
     "metadata": {},
     "output_type": "execute_result"
    }
   ],
   "source": [
    "data2.dtypes"
   ]
  },
  {
   "cell_type": "markdown",
   "id": "92084d71-5169-4965-a0b3-1e6216732787",
   "metadata": {},
   "source": [
    "Now the dtypes look right. Move on to missing values study"
   ]
  },
  {
   "cell_type": "code",
   "execution_count": 79,
   "id": "7b5ad9dd-0e40-40a5-b3d6-f5873c753b3a",
   "metadata": {},
   "outputs": [
    {
     "data": {
      "text/plain": [
       "date                0\n",
       "store_num           0\n",
       "loyalty_card_num    0\n",
       "txn_id              0\n",
       "product_number      0\n",
       "product_name        0\n",
       "product_quantity    0\n",
       "total_sales         0\n",
       "dtype: int64"
      ]
     },
     "execution_count": 79,
     "metadata": {},
     "output_type": "execute_result"
    }
   ],
   "source": [
    "data2.isnull().sum()"
   ]
  },
  {
   "cell_type": "code",
   "execution_count": 80,
   "id": "41d2b0c3-b34d-4982-ad30-c06706307241",
   "metadata": {},
   "outputs": [
    {
     "data": {
      "text/html": [
       "<div>\n",
       "<style scoped>\n",
       "    .dataframe tbody tr th:only-of-type {\n",
       "        vertical-align: middle;\n",
       "    }\n",
       "\n",
       "    .dataframe tbody tr th {\n",
       "        vertical-align: top;\n",
       "    }\n",
       "\n",
       "    .dataframe thead th {\n",
       "        text-align: right;\n",
       "    }\n",
       "</style>\n",
       "<table border=\"1\" class=\"dataframe\">\n",
       "  <thead>\n",
       "    <tr style=\"text-align: right;\">\n",
       "      <th></th>\n",
       "      <th>date</th>\n",
       "      <th>store_num</th>\n",
       "      <th>loyalty_card_num</th>\n",
       "      <th>txn_id</th>\n",
       "      <th>product_number</th>\n",
       "      <th>product_name</th>\n",
       "      <th>product_quantity</th>\n",
       "      <th>total_sales</th>\n",
       "    </tr>\n",
       "  </thead>\n",
       "  <tbody>\n",
       "    <tr>\n",
       "      <th>179813</th>\n",
       "      <td>2019-06-14</td>\n",
       "      <td>165</td>\n",
       "      <td>165015</td>\n",
       "      <td>165460</td>\n",
       "      <td>34</td>\n",
       "      <td>Pringles Slt Vingar 134g</td>\n",
       "      <td>2</td>\n",
       "      <td>7.4</td>\n",
       "    </tr>\n",
       "    <tr>\n",
       "      <th>144690</th>\n",
       "      <td>2019-04-26</td>\n",
       "      <td>166</td>\n",
       "      <td>166314</td>\n",
       "      <td>168514</td>\n",
       "      <td>30</td>\n",
       "      <td>Doritos Corn Chips  Cheese Supreme 170g</td>\n",
       "      <td>2</td>\n",
       "      <td>8.8</td>\n",
       "    </tr>\n",
       "    <tr>\n",
       "      <th>192897</th>\n",
       "      <td>2018-10-24</td>\n",
       "      <td>107</td>\n",
       "      <td>107012</td>\n",
       "      <td>108405</td>\n",
       "      <td>27</td>\n",
       "      <td>WW Supreme Cheese   Corn Chips 200g</td>\n",
       "      <td>2</td>\n",
       "      <td>3.8</td>\n",
       "    </tr>\n",
       "    <tr>\n",
       "      <th>14500</th>\n",
       "      <td>2019-04-19</td>\n",
       "      <td>215</td>\n",
       "      <td>215000</td>\n",
       "      <td>214161</td>\n",
       "      <td>93</td>\n",
       "      <td>Doritos Corn Chip Southern Chicken 150g</td>\n",
       "      <td>2</td>\n",
       "      <td>7.8</td>\n",
       "    </tr>\n",
       "    <tr>\n",
       "      <th>222016</th>\n",
       "      <td>2018-08-30</td>\n",
       "      <td>112</td>\n",
       "      <td>112157</td>\n",
       "      <td>114713</td>\n",
       "      <td>64</td>\n",
       "      <td>Red Rock Deli SR    Salsa &amp; Mzzrlla 150g</td>\n",
       "      <td>2</td>\n",
       "      <td>5.4</td>\n",
       "    </tr>\n",
       "    <tr>\n",
       "      <th>168526</th>\n",
       "      <td>2018-07-15</td>\n",
       "      <td>227</td>\n",
       "      <td>227241</td>\n",
       "      <td>229713</td>\n",
       "      <td>47</td>\n",
       "      <td>Doritos Corn Chips  Original 170g</td>\n",
       "      <td>2</td>\n",
       "      <td>8.8</td>\n",
       "    </tr>\n",
       "    <tr>\n",
       "      <th>176092</th>\n",
       "      <td>2019-02-19</td>\n",
       "      <td>81</td>\n",
       "      <td>81015</td>\n",
       "      <td>79803</td>\n",
       "      <td>42</td>\n",
       "      <td>Doritos Corn Chip Mexican Jalapeno 150g</td>\n",
       "      <td>2</td>\n",
       "      <td>7.8</td>\n",
       "    </tr>\n",
       "    <tr>\n",
       "      <th>83645</th>\n",
       "      <td>2018-07-27</td>\n",
       "      <td>39</td>\n",
       "      <td>39119</td>\n",
       "      <td>35334</td>\n",
       "      <td>76</td>\n",
       "      <td>Woolworths Medium   Salsa 300g</td>\n",
       "      <td>2</td>\n",
       "      <td>3.0</td>\n",
       "    </tr>\n",
       "    <tr>\n",
       "      <th>227146</th>\n",
       "      <td>2019-04-16</td>\n",
       "      <td>231</td>\n",
       "      <td>231213</td>\n",
       "      <td>234572</td>\n",
       "      <td>9</td>\n",
       "      <td>Kettle Tortilla ChpsBtroot&amp;Ricotta 150g</td>\n",
       "      <td>2</td>\n",
       "      <td>9.2</td>\n",
       "    </tr>\n",
       "    <tr>\n",
       "      <th>176508</th>\n",
       "      <td>2018-10-14</td>\n",
       "      <td>88</td>\n",
       "      <td>88275</td>\n",
       "      <td>87591</td>\n",
       "      <td>52</td>\n",
       "      <td>Grain Waves Sour    Cream&amp;Chives 210G</td>\n",
       "      <td>2</td>\n",
       "      <td>7.2</td>\n",
       "    </tr>\n",
       "    <tr>\n",
       "      <th>45078</th>\n",
       "      <td>2019-06-29</td>\n",
       "      <td>144</td>\n",
       "      <td>144149</td>\n",
       "      <td>144707</td>\n",
       "      <td>108</td>\n",
       "      <td>Kettle Tortilla ChpsHny&amp;Jlpno Chili 150g</td>\n",
       "      <td>2</td>\n",
       "      <td>9.2</td>\n",
       "    </tr>\n",
       "    <tr>\n",
       "      <th>48833</th>\n",
       "      <td>2019-05-28</td>\n",
       "      <td>186</td>\n",
       "      <td>186210</td>\n",
       "      <td>188603</td>\n",
       "      <td>13</td>\n",
       "      <td>Red Rock Deli Thai  Chilli&amp;Lime 150g</td>\n",
       "      <td>1</td>\n",
       "      <td>2.7</td>\n",
       "    </tr>\n",
       "    <tr>\n",
       "      <th>76344</th>\n",
       "      <td>2019-01-09</td>\n",
       "      <td>160</td>\n",
       "      <td>160121</td>\n",
       "      <td>160882</td>\n",
       "      <td>91</td>\n",
       "      <td>CCs Tasty Cheese    175g</td>\n",
       "      <td>2</td>\n",
       "      <td>4.2</td>\n",
       "    </tr>\n",
       "    <tr>\n",
       "      <th>135365</th>\n",
       "      <td>2019-05-18</td>\n",
       "      <td>111</td>\n",
       "      <td>111001</td>\n",
       "      <td>113143</td>\n",
       "      <td>69</td>\n",
       "      <td>Smiths Chip Thinly  S/Cream&amp;Onion 175g</td>\n",
       "      <td>4</td>\n",
       "      <td>12.0</td>\n",
       "    </tr>\n",
       "    <tr>\n",
       "      <th>118046</th>\n",
       "      <td>2019-06-25</td>\n",
       "      <td>1</td>\n",
       "      <td>1139</td>\n",
       "      <td>160</td>\n",
       "      <td>112</td>\n",
       "      <td>Tyrrells Crisps     Ched &amp; Chives 165g</td>\n",
       "      <td>1</td>\n",
       "      <td>4.2</td>\n",
       "    </tr>\n",
       "  </tbody>\n",
       "</table>\n",
       "</div>"
      ],
      "text/plain": [
       "             date  store_num  loyalty_card_num  txn_id  product_number  \\\n",
       "179813 2019-06-14        165            165015  165460              34   \n",
       "144690 2019-04-26        166            166314  168514              30   \n",
       "192897 2018-10-24        107            107012  108405              27   \n",
       "14500  2019-04-19        215            215000  214161              93   \n",
       "222016 2018-08-30        112            112157  114713              64   \n",
       "168526 2018-07-15        227            227241  229713              47   \n",
       "176092 2019-02-19         81             81015   79803              42   \n",
       "83645  2018-07-27         39             39119   35334              76   \n",
       "227146 2019-04-16        231            231213  234572               9   \n",
       "176508 2018-10-14         88             88275   87591              52   \n",
       "45078  2019-06-29        144            144149  144707             108   \n",
       "48833  2019-05-28        186            186210  188603              13   \n",
       "76344  2019-01-09        160            160121  160882              91   \n",
       "135365 2019-05-18        111            111001  113143              69   \n",
       "118046 2019-06-25          1              1139     160             112   \n",
       "\n",
       "                                    product_name  product_quantity  \\\n",
       "179813                  Pringles Slt Vingar 134g                 2   \n",
       "144690   Doritos Corn Chips  Cheese Supreme 170g                 2   \n",
       "192897       WW Supreme Cheese   Corn Chips 200g                 2   \n",
       "14500    Doritos Corn Chip Southern Chicken 150g                 2   \n",
       "222016  Red Rock Deli SR    Salsa & Mzzrlla 150g                 2   \n",
       "168526         Doritos Corn Chips  Original 170g                 2   \n",
       "176092   Doritos Corn Chip Mexican Jalapeno 150g                 2   \n",
       "83645             Woolworths Medium   Salsa 300g                 2   \n",
       "227146   Kettle Tortilla ChpsBtroot&Ricotta 150g                 2   \n",
       "176508     Grain Waves Sour    Cream&Chives 210G                 2   \n",
       "45078   Kettle Tortilla ChpsHny&Jlpno Chili 150g                 2   \n",
       "48833       Red Rock Deli Thai  Chilli&Lime 150g                 1   \n",
       "76344                   CCs Tasty Cheese    175g                 2   \n",
       "135365    Smiths Chip Thinly  S/Cream&Onion 175g                 4   \n",
       "118046    Tyrrells Crisps     Ched & Chives 165g                 1   \n",
       "\n",
       "        total_sales  \n",
       "179813          7.4  \n",
       "144690          8.8  \n",
       "192897          3.8  \n",
       "14500           7.8  \n",
       "222016          5.4  \n",
       "168526          8.8  \n",
       "176092          7.8  \n",
       "83645           3.0  \n",
       "227146          9.2  \n",
       "176508          7.2  \n",
       "45078           9.2  \n",
       "48833           2.7  \n",
       "76344           4.2  \n",
       "135365         12.0  \n",
       "118046          4.2  "
      ]
     },
     "execution_count": 80,
     "metadata": {},
     "output_type": "execute_result"
    }
   ],
   "source": [
    "data2.sample(15)"
   ]
  },
  {
   "cell_type": "markdown",
   "id": "cfc5685d-967d-41fc-a651-48063b770c6c",
   "metadata": {},
   "source": [
    "## Create `product_price` column"
   ]
  },
  {
   "cell_type": "code",
   "execution_count": 81,
   "id": "3d8b7f8c-77d0-479b-bc54-cfd87abfdacc",
   "metadata": {},
   "outputs": [],
   "source": [
    "data2['product_price'] = data2.total_sales / data2.product_quantity"
   ]
  },
  {
   "cell_type": "code",
   "execution_count": 82,
   "id": "f01a8b09-eeba-45e5-8819-e0838ce13958",
   "metadata": {},
   "outputs": [
    {
     "data": {
      "text/html": [
       "<div>\n",
       "<style scoped>\n",
       "    .dataframe tbody tr th:only-of-type {\n",
       "        vertical-align: middle;\n",
       "    }\n",
       "\n",
       "    .dataframe tbody tr th {\n",
       "        vertical-align: top;\n",
       "    }\n",
       "\n",
       "    .dataframe thead th {\n",
       "        text-align: right;\n",
       "    }\n",
       "</style>\n",
       "<table border=\"1\" class=\"dataframe\">\n",
       "  <thead>\n",
       "    <tr style=\"text-align: right;\">\n",
       "      <th></th>\n",
       "      <th>product_number</th>\n",
       "      <th>product_name</th>\n",
       "      <th>product_quantity</th>\n",
       "      <th>product_price</th>\n",
       "    </tr>\n",
       "  </thead>\n",
       "  <tbody>\n",
       "    <tr>\n",
       "      <th>112761</th>\n",
       "      <td>109</td>\n",
       "      <td>Pringles Barbeque   134g</td>\n",
       "      <td>2</td>\n",
       "      <td>3.7</td>\n",
       "    </tr>\n",
       "    <tr>\n",
       "      <th>138765</th>\n",
       "      <td>63</td>\n",
       "      <td>Kettle 135g Swt Pot Sea Salt</td>\n",
       "      <td>2</td>\n",
       "      <td>4.2</td>\n",
       "    </tr>\n",
       "    <tr>\n",
       "      <th>96181</th>\n",
       "      <td>62</td>\n",
       "      <td>Pringles Mystery    Flavour 134g</td>\n",
       "      <td>2</td>\n",
       "      <td>3.7</td>\n",
       "    </tr>\n",
       "    <tr>\n",
       "      <th>177970</th>\n",
       "      <td>75</td>\n",
       "      <td>Cobs Popd Sea Salt  Chips 110g</td>\n",
       "      <td>2</td>\n",
       "      <td>3.8</td>\n",
       "    </tr>\n",
       "    <tr>\n",
       "      <th>151632</th>\n",
       "      <td>94</td>\n",
       "      <td>Burger Rings 220g</td>\n",
       "      <td>2</td>\n",
       "      <td>2.3</td>\n",
       "    </tr>\n",
       "  </tbody>\n",
       "</table>\n",
       "</div>"
      ],
      "text/plain": [
       "        product_number                      product_name  product_quantity  \\\n",
       "112761             109          Pringles Barbeque   134g                 2   \n",
       "138765              63      Kettle 135g Swt Pot Sea Salt                 2   \n",
       "96181               62  Pringles Mystery    Flavour 134g                 2   \n",
       "177970              75    Cobs Popd Sea Salt  Chips 110g                 2   \n",
       "151632              94                 Burger Rings 220g                 2   \n",
       "\n",
       "        product_price  \n",
       "112761            3.7  \n",
       "138765            4.2  \n",
       "96181             3.7  \n",
       "177970            3.8  \n",
       "151632            2.3  "
      ]
     },
     "execution_count": 82,
     "metadata": {},
     "output_type": "execute_result"
    }
   ],
   "source": [
    "product_columns = [i for i in data2 if 'product' in i]\n",
    "data2[product_columns].sample(5)"
   ]
  },
  {
   "cell_type": "markdown",
   "id": "12f17cb4-7da9-4042-9ec3-936d50fcd23d",
   "metadata": {
    "tags": [],
    "toc-hr-collapsed": true
   },
   "source": [
    "## Extract weight values from `product_name`"
   ]
  },
  {
   "cell_type": "code",
   "execution_count": 83,
   "id": "ebfd266c-30b9-48ae-a50e-23dad1aaf3d8",
   "metadata": {},
   "outputs": [
    {
     "data": {
      "text/plain": [
       "0           Natural Chip        Compny SeaSalt175g\n",
       "1                         CCs Nacho Cheese    175g\n",
       "2           Smiths Crinkle Cut  Chips Chicken 170g\n",
       "3           Smiths Chip Thinly  S/Cream&Onion 175g\n",
       "4         Kettle Tortilla ChpsHny&Jlpno Chili 150g\n",
       "                            ...                   \n",
       "264831     Kettle Sweet Chilli And Sour Cream 175g\n",
       "264832               Tostitos Splash Of  Lime 175g\n",
       "264833                    Doritos Mexicana    170g\n",
       "264834     Doritos Corn Chip Mexican Jalapeno 150g\n",
       "264835               Tostitos Splash Of  Lime 175g\n",
       "Name: product_name, Length: 264836, dtype: object"
      ]
     },
     "execution_count": 83,
     "metadata": {},
     "output_type": "execute_result"
    }
   ],
   "source": [
    "data2.product_name"
   ]
  },
  {
   "cell_type": "code",
   "execution_count": 84,
   "id": "4516152c-382b-4db5-b696-39f1a1187147",
   "metadata": {},
   "outputs": [],
   "source": [
    "names = data2.product_name.copy(deep=True)"
   ]
  },
  {
   "cell_type": "markdown",
   "id": "398d094f-946d-477e-9845-1ccebde3234f",
   "metadata": {},
   "source": [
    "### Create a `product_weight` with the weight of the product"
   ]
  },
  {
   "cell_type": "markdown",
   "id": "cc9f0d2a-5a83-4b2a-a058-8d1ba925b4f1",
   "metadata": {},
   "source": [
    "Check if all the weight values are only three figures values"
   ]
  },
  {
   "cell_type": "code",
   "execution_count": 85,
   "id": "ee653b80-9756-4d70-b9d2-66b952576e2f",
   "metadata": {},
   "outputs": [],
   "source": [
    "weights = names.apply(lambda x : x[-4:])"
   ]
  },
  {
   "cell_type": "markdown",
   "id": "a7a808c3-8822-4db0-aa84-a6ac28bc19f2",
   "metadata": {},
   "source": [
    "Some weights could be invalid"
   ]
  },
  {
   "cell_type": "code",
   "execution_count": 86,
   "id": "c246f50e-b2e8-42e7-b46e-756aa8895e09",
   "metadata": {},
   "outputs": [
    {
     "data": {
      "text/plain": [
       "False"
      ]
     },
     "execution_count": 86,
     "metadata": {},
     "output_type": "execute_result"
    }
   ],
   "source": [
    "weights.apply(lambda x : x[0].isnumeric() ).all()"
   ]
  },
  {
   "cell_type": "code",
   "execution_count": 87,
   "id": "74483154-5122-4a2d-905d-05403cbb81ac",
   "metadata": {},
   "outputs": [],
   "source": [
    "invalid_weights = weights[ ~ weights.apply(lambda x : x[0].isnumeric() ) ]"
   ]
  },
  {
   "cell_type": "code",
   "execution_count": 88,
   "id": "3dfc7ca1-8936-4f56-9ad2-7b5b38ef76ae",
   "metadata": {},
   "outputs": [
    {
     "data": {
      "text/plain": [
       "array(['Salt', ' 90g', ' 70g'], dtype=object)"
      ]
     },
     "execution_count": 88,
     "metadata": {},
     "output_type": "execute_result"
    }
   ],
   "source": [
    "invalid_weights.unique()"
   ]
  },
  {
   "cell_type": "markdown",
   "id": "e78ce37a-5663-4a4f-a839-7309e457881e",
   "metadata": {},
   "source": [
    "Some products are lighter than 100 grams and others have no weight value at the end of the name."
   ]
  },
  {
   "cell_type": "code",
   "execution_count": 89,
   "id": "5d253e63-9aae-466a-a322-dab521e77a33",
   "metadata": {},
   "outputs": [
    {
     "data": {
      "text/plain": [
       "65        Kettle 135g Swt Pot Sea Salt\n",
       "153       Kettle 135g Swt Pot Sea Salt\n",
       "174       Kettle 135g Swt Pot Sea Salt\n",
       "177       Kettle 135g Swt Pot Sea Salt\n",
       "348       Kettle 135g Swt Pot Sea Salt\n",
       "                      ...             \n",
       "264564    Kettle 135g Swt Pot Sea Salt\n",
       "264574    Kettle 135g Swt Pot Sea Salt\n",
       "264725    Kettle 135g Swt Pot Sea Salt\n",
       "264767    Kettle 135g Swt Pot Sea Salt\n",
       "264823    Kettle 135g Swt Pot Sea Salt\n",
       "Name: product_name, Length: 3257, dtype: object"
      ]
     },
     "execution_count": 89,
     "metadata": {},
     "output_type": "execute_result"
    }
   ],
   "source": [
    "names[names.str.endswith('Salt')]"
   ]
  },
  {
   "cell_type": "markdown",
   "id": "b1c3f84f-6787-4e84-b94a-ff8a4040fdcd",
   "metadata": {},
   "source": [
    "Those products have the weight information in the middle of the name."
   ]
  },
  {
   "cell_type": "code",
   "execution_count": 90,
   "id": "0ce8e047-725c-4326-9cdc-cc89e88a79c8",
   "metadata": {},
   "outputs": [
    {
     "data": {
      "text/plain": [
       "array(['Kettle 135g Swt Pot Sea Salt'], dtype=object)"
      ]
     },
     "execution_count": 90,
     "metadata": {},
     "output_type": "execute_result"
    }
   ],
   "source": [
    "names[names.str.endswith('Salt')].unique()"
   ]
  },
  {
   "cell_type": "markdown",
   "id": "c05c62fd-4162-4a57-bee3-9001adfd96c9",
   "metadata": {},
   "source": [
    "Create a function to extract the weight info from the product name"
   ]
  },
  {
   "cell_type": "code",
   "execution_count": 91,
   "id": "90b08ce2-2438-4604-886b-bfff72f5c006",
   "metadata": {},
   "outputs": [],
   "source": [
    "def extract_weight(name):\n",
    "    # three digits weight\n",
    "    if name[-4].isnumeric():\n",
    "        return float(name[-4:-1])\n",
    "    # two digits weight\n",
    "    elif name[-4] ==' ':\n",
    "        return float(name[-3:-1])\n",
    "    elif name == 'Kettle 135g Swt Pot Sea Salt' :\n",
    "        return 135\n",
    "    # by now, any other format of name will return NaN\n",
    "    else :\n",
    "        return np.nan"
   ]
  },
  {
   "cell_type": "code",
   "execution_count": 92,
   "id": "8b46f7aa-6c08-4600-b895-349115ff0b73",
   "metadata": {},
   "outputs": [],
   "source": [
    "product_weight = names.apply(extract_weight)"
   ]
  },
  {
   "cell_type": "code",
   "execution_count": 93,
   "id": "289c9390-6d2d-4c58-a217-fa0b34b25e5e",
   "metadata": {},
   "outputs": [
    {
     "data": {
      "text/plain": [
       "0"
      ]
     },
     "execution_count": 93,
     "metadata": {},
     "output_type": "execute_result"
    }
   ],
   "source": [
    "product_weight.isnull().sum()"
   ]
  },
  {
   "cell_type": "code",
   "execution_count": 94,
   "id": "a2aa358f-122b-4ae4-a8da-1246fe44561b",
   "metadata": {},
   "outputs": [
    {
     "data": {
      "text/plain": [
       "array([175., 170., 150., 300., 330., 210., 270., 220., 125., 110., 134.,\n",
       "       380., 180., 165., 135., 250., 200., 160., 190.,  90.,  70.])"
      ]
     },
     "execution_count": 94,
     "metadata": {},
     "output_type": "execute_result"
    }
   ],
   "source": [
    "product_weight.unique()"
   ]
  },
  {
   "cell_type": "code",
   "execution_count": 95,
   "id": "edb8ea7c-3014-4949-950b-a627e7d7e203",
   "metadata": {},
   "outputs": [
    {
     "name": "stdout",
     "output_type": "stream",
     "text": [
      "Size of the product name column: 264836 vs total processed values 264836.\n",
      "There is a difference of 0\n"
     ]
    }
   ],
   "source": [
    "print(f'Size of the product name column: {names.shape[0]} vs total processed values {product_weight.notnull().sum()}.')\n",
    "print(f'There is a difference of {names.shape[0] - product_weight.notnull().sum()}')"
   ]
  },
  {
   "cell_type": "markdown",
   "id": "f32ee517-eb86-4773-b5df-3de62c626c36",
   "metadata": {},
   "source": [
    "After having applied the `extract_weight` function, it seems all the weight values have been extracted.  \n",
    "Now i will apply the a slightly modified version of the function to remove the weight info from the name and store it a new column named `product_weight`."
   ]
  },
  {
   "cell_type": "code",
   "execution_count": 96,
   "id": "1071ab18-1100-4fa4-a4c7-fba7c513d6a9",
   "metadata": {},
   "outputs": [],
   "source": [
    "def extract_weight_from_name(name):\n",
    "    # three digits weight\n",
    "    if name[-4].isnumeric():\n",
    "        clean_name = name[:-4]\n",
    "        weight = float(name[-4:-1])\n",
    "    # two digits weight\n",
    "    elif name[-4] ==' ':\n",
    "        clean_name = name[:-3]\n",
    "        weight = float(name[-3:-1])\n",
    "    elif name == 'Kettle 135g Swt Pot Sea Salt' :\n",
    "        clean_name = name.replace('135g ', '')\n",
    "        weight = 135\n",
    "    # by now, any other format of name will return NaN\n",
    "    else :\n",
    "        clean_name = name\n",
    "        weight = np.nan\n",
    "    return clean_name, weight"
   ]
  },
  {
   "cell_type": "code",
   "execution_count": 97,
   "id": "e3fd4783-47e7-4dbc-8dbd-297741c7800d",
   "metadata": {},
   "outputs": [],
   "source": [
    "clean_names = names.apply(extract_weight_from_name).apply(lambda x: x[0].strip())"
   ]
  },
  {
   "cell_type": "code",
   "execution_count": 98,
   "id": "7b17ddcf-1fb5-4e07-93f9-3cd146959739",
   "metadata": {},
   "outputs": [
    {
     "data": {
      "text/plain": [
       "0"
      ]
     },
     "execution_count": 98,
     "metadata": {},
     "output_type": "execute_result"
    }
   ],
   "source": [
    "clean_names.isnull().sum()"
   ]
  },
  {
   "cell_type": "code",
   "execution_count": 99,
   "id": "6d49f47b-16da-40b1-b169-7fa1ad79e658",
   "metadata": {},
   "outputs": [],
   "source": [
    "weights = names.apply(extract_weight_from_name).apply(lambda x: x[1])"
   ]
  },
  {
   "cell_type": "code",
   "execution_count": 100,
   "id": "fecd9e9e-50ae-4b53-a2fe-ae274ef93fd8",
   "metadata": {},
   "outputs": [
    {
     "data": {
      "text/html": [
       "<div>\n",
       "<style scoped>\n",
       "    .dataframe tbody tr th:only-of-type {\n",
       "        vertical-align: middle;\n",
       "    }\n",
       "\n",
       "    .dataframe tbody tr th {\n",
       "        vertical-align: top;\n",
       "    }\n",
       "\n",
       "    .dataframe thead th {\n",
       "        text-align: right;\n",
       "    }\n",
       "</style>\n",
       "<table border=\"1\" class=\"dataframe\">\n",
       "  <thead>\n",
       "    <tr style=\"text-align: right;\">\n",
       "      <th></th>\n",
       "      <th>name</th>\n",
       "      <th>weight</th>\n",
       "    </tr>\n",
       "  </thead>\n",
       "  <tbody>\n",
       "    <tr>\n",
       "      <th>0</th>\n",
       "      <td>Natural Chip        Compny SeaSalt</td>\n",
       "      <td>175.0</td>\n",
       "    </tr>\n",
       "    <tr>\n",
       "      <th>1</th>\n",
       "      <td>CCs Nacho Cheese</td>\n",
       "      <td>175.0</td>\n",
       "    </tr>\n",
       "    <tr>\n",
       "      <th>2</th>\n",
       "      <td>Smiths Crinkle Cut  Chips Chicken</td>\n",
       "      <td>170.0</td>\n",
       "    </tr>\n",
       "    <tr>\n",
       "      <th>3</th>\n",
       "      <td>Smiths Chip Thinly  S/Cream&amp;Onion</td>\n",
       "      <td>175.0</td>\n",
       "    </tr>\n",
       "    <tr>\n",
       "      <th>4</th>\n",
       "      <td>Kettle Tortilla ChpsHny&amp;Jlpno Chili</td>\n",
       "      <td>150.0</td>\n",
       "    </tr>\n",
       "    <tr>\n",
       "      <th>...</th>\n",
       "      <td>...</td>\n",
       "      <td>...</td>\n",
       "    </tr>\n",
       "    <tr>\n",
       "      <th>264831</th>\n",
       "      <td>Kettle Sweet Chilli And Sour Cream</td>\n",
       "      <td>175.0</td>\n",
       "    </tr>\n",
       "    <tr>\n",
       "      <th>264832</th>\n",
       "      <td>Tostitos Splash Of  Lime</td>\n",
       "      <td>175.0</td>\n",
       "    </tr>\n",
       "    <tr>\n",
       "      <th>264833</th>\n",
       "      <td>Doritos Mexicana</td>\n",
       "      <td>170.0</td>\n",
       "    </tr>\n",
       "    <tr>\n",
       "      <th>264834</th>\n",
       "      <td>Doritos Corn Chip Mexican Jalapeno</td>\n",
       "      <td>150.0</td>\n",
       "    </tr>\n",
       "    <tr>\n",
       "      <th>264835</th>\n",
       "      <td>Tostitos Splash Of  Lime</td>\n",
       "      <td>175.0</td>\n",
       "    </tr>\n",
       "  </tbody>\n",
       "</table>\n",
       "<p>264836 rows × 2 columns</p>\n",
       "</div>"
      ],
      "text/plain": [
       "                                       name  weight\n",
       "0        Natural Chip        Compny SeaSalt   175.0\n",
       "1                          CCs Nacho Cheese   175.0\n",
       "2         Smiths Crinkle Cut  Chips Chicken   170.0\n",
       "3         Smiths Chip Thinly  S/Cream&Onion   175.0\n",
       "4       Kettle Tortilla ChpsHny&Jlpno Chili   150.0\n",
       "...                                     ...     ...\n",
       "264831   Kettle Sweet Chilli And Sour Cream   175.0\n",
       "264832             Tostitos Splash Of  Lime   175.0\n",
       "264833                     Doritos Mexicana   170.0\n",
       "264834   Doritos Corn Chip Mexican Jalapeno   150.0\n",
       "264835             Tostitos Splash Of  Lime   175.0\n",
       "\n",
       "[264836 rows x 2 columns]"
      ]
     },
     "execution_count": 100,
     "metadata": {},
     "output_type": "execute_result"
    }
   ],
   "source": [
    "pd.DataFrame({'name': clean_names, 'weight' : weights})"
   ]
  },
  {
   "cell_type": "code",
   "execution_count": 101,
   "id": "ac8869c8-02aa-430d-8eb7-05ac5c6972b4",
   "metadata": {},
   "outputs": [
    {
     "data": {
      "text/plain": [
       "name      0\n",
       "weight    0\n",
       "dtype: int64"
      ]
     },
     "execution_count": 101,
     "metadata": {},
     "output_type": "execute_result"
    }
   ],
   "source": [
    "pd.DataFrame({'name': clean_names, 'weight' : weights}).isnull().sum()"
   ]
  },
  {
   "cell_type": "markdown",
   "id": "7960721a-047b-4302-a46c-21d07e719cd3",
   "metadata": {},
   "source": [
    "Since there are no missing values, there's no need to store the weights as float. I will convert to integer"
   ]
  },
  {
   "cell_type": "code",
   "execution_count": 102,
   "id": "2d8cba25-8ba7-488c-ac4b-4559f5a5bce9",
   "metadata": {},
   "outputs": [],
   "source": [
    "weights = weights.astype(int)"
   ]
  },
  {
   "cell_type": "markdown",
   "id": "78c35a92-f9ce-494f-8203-96a258beb5be",
   "metadata": {},
   "source": [
    "### Add the `clean_names` and `weight` to dataset"
   ]
  },
  {
   "cell_type": "code",
   "execution_count": 103,
   "id": "19e301ba-77dd-4a23-bb94-f6b09f91ffdf",
   "metadata": {},
   "outputs": [],
   "source": [
    "data2.product_name = clean_names\n",
    "data2['product_weight'] = weights"
   ]
  },
  {
   "cell_type": "code",
   "execution_count": 104,
   "id": "23e51d6b-738d-4d74-be4a-7925028bde05",
   "metadata": {},
   "outputs": [
    {
     "data": {
      "text/html": [
       "<div>\n",
       "<style scoped>\n",
       "    .dataframe tbody tr th:only-of-type {\n",
       "        vertical-align: middle;\n",
       "    }\n",
       "\n",
       "    .dataframe tbody tr th {\n",
       "        vertical-align: top;\n",
       "    }\n",
       "\n",
       "    .dataframe thead th {\n",
       "        text-align: right;\n",
       "    }\n",
       "</style>\n",
       "<table border=\"1\" class=\"dataframe\">\n",
       "  <thead>\n",
       "    <tr style=\"text-align: right;\">\n",
       "      <th></th>\n",
       "      <th>date</th>\n",
       "      <th>store_num</th>\n",
       "      <th>loyalty_card_num</th>\n",
       "      <th>txn_id</th>\n",
       "      <th>product_number</th>\n",
       "      <th>product_name</th>\n",
       "      <th>product_quantity</th>\n",
       "      <th>total_sales</th>\n",
       "      <th>product_price</th>\n",
       "      <th>product_weight</th>\n",
       "    </tr>\n",
       "  </thead>\n",
       "  <tbody>\n",
       "    <tr>\n",
       "      <th>68262</th>\n",
       "      <td>2018-12-03</td>\n",
       "      <td>242</td>\n",
       "      <td>242147</td>\n",
       "      <td>246205</td>\n",
       "      <td>32</td>\n",
       "      <td>Kettle Sea Salt     And Vinegar</td>\n",
       "      <td>2</td>\n",
       "      <td>10.8</td>\n",
       "      <td>5.4</td>\n",
       "      <td>175</td>\n",
       "    </tr>\n",
       "    <tr>\n",
       "      <th>145457</th>\n",
       "      <td>2018-09-01</td>\n",
       "      <td>181</td>\n",
       "      <td>181132</td>\n",
       "      <td>183120</td>\n",
       "      <td>63</td>\n",
       "      <td>Kettle Swt Pot Sea Salt</td>\n",
       "      <td>2</td>\n",
       "      <td>8.4</td>\n",
       "      <td>4.2</td>\n",
       "      <td>135</td>\n",
       "    </tr>\n",
       "    <tr>\n",
       "      <th>136688</th>\n",
       "      <td>2019-06-20</td>\n",
       "      <td>19</td>\n",
       "      <td>19005</td>\n",
       "      <td>15800</td>\n",
       "      <td>44</td>\n",
       "      <td>Thins Chips Light&amp;  Tangy</td>\n",
       "      <td>2</td>\n",
       "      <td>6.6</td>\n",
       "      <td>3.3</td>\n",
       "      <td>175</td>\n",
       "    </tr>\n",
       "    <tr>\n",
       "      <th>169451</th>\n",
       "      <td>2018-09-01</td>\n",
       "      <td>237</td>\n",
       "      <td>237323</td>\n",
       "      <td>241576</td>\n",
       "      <td>17</td>\n",
       "      <td>Kettle Sensations   BBQ&amp;Maple</td>\n",
       "      <td>2</td>\n",
       "      <td>9.2</td>\n",
       "      <td>4.6</td>\n",
       "      <td>150</td>\n",
       "    </tr>\n",
       "    <tr>\n",
       "      <th>31542</th>\n",
       "      <td>2019-03-15</td>\n",
       "      <td>190</td>\n",
       "      <td>190045</td>\n",
       "      <td>190521</td>\n",
       "      <td>62</td>\n",
       "      <td>Pringles Mystery    Flavour</td>\n",
       "      <td>2</td>\n",
       "      <td>7.4</td>\n",
       "      <td>3.7</td>\n",
       "      <td>134</td>\n",
       "    </tr>\n",
       "    <tr>\n",
       "      <th>241890</th>\n",
       "      <td>2018-07-27</td>\n",
       "      <td>45</td>\n",
       "      <td>45143</td>\n",
       "      <td>41230</td>\n",
       "      <td>8</td>\n",
       "      <td>Smiths Crinkle Cut  Chips Original</td>\n",
       "      <td>2</td>\n",
       "      <td>5.8</td>\n",
       "      <td>2.9</td>\n",
       "      <td>170</td>\n",
       "    </tr>\n",
       "    <tr>\n",
       "      <th>197979</th>\n",
       "      <td>2019-03-24</td>\n",
       "      <td>180</td>\n",
       "      <td>180139</td>\n",
       "      <td>181908</td>\n",
       "      <td>62</td>\n",
       "      <td>Pringles Mystery    Flavour</td>\n",
       "      <td>2</td>\n",
       "      <td>7.4</td>\n",
       "      <td>3.7</td>\n",
       "      <td>134</td>\n",
       "    </tr>\n",
       "    <tr>\n",
       "      <th>165442</th>\n",
       "      <td>2019-01-22</td>\n",
       "      <td>191</td>\n",
       "      <td>191241</td>\n",
       "      <td>193183</td>\n",
       "      <td>50</td>\n",
       "      <td>Tostitos Lightly    Salted</td>\n",
       "      <td>2</td>\n",
       "      <td>8.8</td>\n",
       "      <td>4.4</td>\n",
       "      <td>175</td>\n",
       "    </tr>\n",
       "    <tr>\n",
       "      <th>123311</th>\n",
       "      <td>2019-03-23</td>\n",
       "      <td>83</td>\n",
       "      <td>83184</td>\n",
       "      <td>83151</td>\n",
       "      <td>50</td>\n",
       "      <td>Tostitos Lightly    Salted</td>\n",
       "      <td>2</td>\n",
       "      <td>8.8</td>\n",
       "      <td>4.4</td>\n",
       "      <td>175</td>\n",
       "    </tr>\n",
       "    <tr>\n",
       "      <th>207132</th>\n",
       "      <td>2019-02-20</td>\n",
       "      <td>67</td>\n",
       "      <td>67110</td>\n",
       "      <td>64476</td>\n",
       "      <td>48</td>\n",
       "      <td>Red Rock Deli Sp    Salt &amp; Truffle</td>\n",
       "      <td>2</td>\n",
       "      <td>5.4</td>\n",
       "      <td>2.7</td>\n",
       "      <td>150</td>\n",
       "    </tr>\n",
       "    <tr>\n",
       "      <th>50864</th>\n",
       "      <td>2018-09-25</td>\n",
       "      <td>213</td>\n",
       "      <td>213227</td>\n",
       "      <td>213391</td>\n",
       "      <td>2</td>\n",
       "      <td>Cobs Popd Sour Crm  &amp;Chives Chips</td>\n",
       "      <td>2</td>\n",
       "      <td>7.6</td>\n",
       "      <td>3.8</td>\n",
       "      <td>110</td>\n",
       "    </tr>\n",
       "    <tr>\n",
       "      <th>248883</th>\n",
       "      <td>2019-04-19</td>\n",
       "      <td>140</td>\n",
       "      <td>140293</td>\n",
       "      <td>142182</td>\n",
       "      <td>20</td>\n",
       "      <td>Doritos Cheese      Supreme</td>\n",
       "      <td>1</td>\n",
       "      <td>5.7</td>\n",
       "      <td>5.7</td>\n",
       "      <td>330</td>\n",
       "    </tr>\n",
       "    <tr>\n",
       "      <th>151657</th>\n",
       "      <td>2018-11-18</td>\n",
       "      <td>6</td>\n",
       "      <td>6236</td>\n",
       "      <td>6028</td>\n",
       "      <td>32</td>\n",
       "      <td>Kettle Sea Salt     And Vinegar</td>\n",
       "      <td>2</td>\n",
       "      <td>10.8</td>\n",
       "      <td>5.4</td>\n",
       "      <td>175</td>\n",
       "    </tr>\n",
       "    <tr>\n",
       "      <th>55985</th>\n",
       "      <td>2019-05-23</td>\n",
       "      <td>7</td>\n",
       "      <td>7091</td>\n",
       "      <td>6659</td>\n",
       "      <td>30</td>\n",
       "      <td>Doritos Corn Chips  Cheese Supreme</td>\n",
       "      <td>1</td>\n",
       "      <td>4.4</td>\n",
       "      <td>4.4</td>\n",
       "      <td>170</td>\n",
       "    </tr>\n",
       "    <tr>\n",
       "      <th>53916</th>\n",
       "      <td>2019-02-19</td>\n",
       "      <td>250</td>\n",
       "      <td>250362</td>\n",
       "      <td>252943</td>\n",
       "      <td>9</td>\n",
       "      <td>Kettle Tortilla ChpsBtroot&amp;Ricotta</td>\n",
       "      <td>2</td>\n",
       "      <td>9.2</td>\n",
       "      <td>4.6</td>\n",
       "      <td>150</td>\n",
       "    </tr>\n",
       "  </tbody>\n",
       "</table>\n",
       "</div>"
      ],
      "text/plain": [
       "             date  store_num  loyalty_card_num  txn_id  product_number  \\\n",
       "68262  2018-12-03        242            242147  246205              32   \n",
       "145457 2018-09-01        181            181132  183120              63   \n",
       "136688 2019-06-20         19             19005   15800              44   \n",
       "169451 2018-09-01        237            237323  241576              17   \n",
       "31542  2019-03-15        190            190045  190521              62   \n",
       "241890 2018-07-27         45             45143   41230               8   \n",
       "197979 2019-03-24        180            180139  181908              62   \n",
       "165442 2019-01-22        191            191241  193183              50   \n",
       "123311 2019-03-23         83             83184   83151              50   \n",
       "207132 2019-02-20         67             67110   64476              48   \n",
       "50864  2018-09-25        213            213227  213391               2   \n",
       "248883 2019-04-19        140            140293  142182              20   \n",
       "151657 2018-11-18          6              6236    6028              32   \n",
       "55985  2019-05-23          7              7091    6659              30   \n",
       "53916  2019-02-19        250            250362  252943               9   \n",
       "\n",
       "                              product_name  product_quantity  total_sales  \\\n",
       "68262      Kettle Sea Salt     And Vinegar                 2         10.8   \n",
       "145457             Kettle Swt Pot Sea Salt                 2          8.4   \n",
       "136688           Thins Chips Light&  Tangy                 2          6.6   \n",
       "169451       Kettle Sensations   BBQ&Maple                 2          9.2   \n",
       "31542          Pringles Mystery    Flavour                 2          7.4   \n",
       "241890  Smiths Crinkle Cut  Chips Original                 2          5.8   \n",
       "197979         Pringles Mystery    Flavour                 2          7.4   \n",
       "165442          Tostitos Lightly    Salted                 2          8.8   \n",
       "123311          Tostitos Lightly    Salted                 2          8.8   \n",
       "207132  Red Rock Deli Sp    Salt & Truffle                 2          5.4   \n",
       "50864    Cobs Popd Sour Crm  &Chives Chips                 2          7.6   \n",
       "248883         Doritos Cheese      Supreme                 1          5.7   \n",
       "151657     Kettle Sea Salt     And Vinegar                 2         10.8   \n",
       "55985   Doritos Corn Chips  Cheese Supreme                 1          4.4   \n",
       "53916   Kettle Tortilla ChpsBtroot&Ricotta                 2          9.2   \n",
       "\n",
       "        product_price  product_weight  \n",
       "68262             5.4             175  \n",
       "145457            4.2             135  \n",
       "136688            3.3             175  \n",
       "169451            4.6             150  \n",
       "31542             3.7             134  \n",
       "241890            2.9             170  \n",
       "197979            3.7             134  \n",
       "165442            4.4             175  \n",
       "123311            4.4             175  \n",
       "207132            2.7             150  \n",
       "50864             3.8             110  \n",
       "248883            5.7             330  \n",
       "151657            5.4             175  \n",
       "55985             4.4             170  \n",
       "53916             4.6             150  "
      ]
     },
     "execution_count": 104,
     "metadata": {},
     "output_type": "execute_result"
    }
   ],
   "source": [
    "data2.sample(15)"
   ]
  },
  {
   "cell_type": "markdown",
   "id": "4eb85bc5-9f2f-40da-a5c4-0dbbd861a2e2",
   "metadata": {},
   "source": [
    "## Clean `product_name`"
   ]
  },
  {
   "cell_type": "code",
   "execution_count": 105,
   "id": "c49d103f-b196-472b-b849-aea48bd6081c",
   "metadata": {},
   "outputs": [],
   "source": [
    "names = data2.product_name"
   ]
  },
  {
   "cell_type": "code",
   "execution_count": 106,
   "id": "9de115a9-fe4f-400f-a2f1-9153b18f899c",
   "metadata": {},
   "outputs": [
    {
     "data": {
      "text/plain": [
       "100236       Snbts Whlgrn Crisps Cheddr&Mstrd\n",
       "102123                       CCs Tasty Cheese\n",
       "29025                Tostitos Splash Of  Lime\n",
       "39858               Cobs Popd Sea Salt  Chips\n",
       "197892                     RRD Salt & Vinegar\n",
       "29561               Thins Chips Light&  Tangy\n",
       "120877            Dorito Corn Chp     Supreme\n",
       "155332    Smiths Crinkle Chips Salt & Vinegar\n",
       "121119              Cobs Popd Sea Salt  Chips\n",
       "49372        Snbts Whlgrn Crisps Cheddr&Mstrd\n",
       "116778      Infzns Crn Crnchers Tangy Gcamole\n",
       "101682     Tyrrells Crisps     Lightly Salted\n",
       "169765              WW Original Stacked Chips\n",
       "78827       Infzns Crn Crnchers Tangy Gcamole\n",
       "177047       Red Rock Deli Chikn&Garlic Aioli\n",
       "73277       Infzns Crn Crnchers Tangy Gcamole\n",
       "206322    Kettle Sensations   Camembert & Fig\n",
       "29190                     Pringles Slt Vingar\n",
       "129665                        Cheezels Cheese\n",
       "12884             Doritos Cheese      Supreme\n",
       "Name: product_name, dtype: object"
      ]
     },
     "execution_count": 106,
     "metadata": {},
     "output_type": "execute_result"
    }
   ],
   "source": [
    "names.sample(20)"
   ]
  },
  {
   "cell_type": "markdown",
   "id": "1fac022c-fefe-4e79-a698-39b58381e0f5",
   "metadata": {},
   "source": [
    "Make some replacements in the names to expand some abbreviations of ingredients"
   ]
  },
  {
   "cell_type": "code",
   "execution_count": 107,
   "id": "565270ea-8feb-4c31-8bf7-ee027cb5283f",
   "metadata": {},
   "outputs": [],
   "source": [
    "def replace_abbreviations(name):\n",
    "    abbreviations = {'Chps' : 'Chips', 'Chp' : 'Chip', 'Hny' : 'Honey', 'Jlpno' : 'Jalapeno', 'Vinegr' : 'Vinegar', 'Tmato' : 'Tomato', 'Hrb&Spce' : 'Herbs & Spices', 'FriedChicken' : 'Fried Chicken',\n",
    "                    'Frch/Onin' : 'French Onion'}\n",
    "    for i in abbreviations.keys():\n",
    "        if i in name:\n",
    "            name = name.replace(i, abbreviations[i])\n",
    "    return name        "
   ]
  },
  {
   "cell_type": "markdown",
   "id": "78d2543a-7238-4ff4-b91e-f19758d849b2",
   "metadata": {},
   "source": [
    "Function to remove whitespaces"
   ]
  },
  {
   "cell_type": "code",
   "execution_count": 108,
   "id": "eadb8eb8-8d09-4753-a84b-72163a427e44",
   "metadata": {},
   "outputs": [],
   "source": [
    "def remove_whitespaces(string):\n",
    "    string = string.split()\n",
    "    string = ' '.join(string)\n",
    "    return string"
   ]
  },
  {
   "cell_type": "markdown",
   "id": "e54945ac-f510-4f96-beed-b508482b144f",
   "metadata": {},
   "source": [
    "Function to replace ampersand characters without whitespaces"
   ]
  },
  {
   "cell_type": "code",
   "execution_count": 109,
   "id": "4fab808d-2933-4153-8037-0a2600cdf3dd",
   "metadata": {},
   "outputs": [],
   "source": [
    "def replace_ampersand(name):\n",
    "    if '&' in name:\n",
    "        pos = name.find('&')\n",
    "        # ampersand is surrounded by words without whitspace\n",
    "        # no space on the left\n",
    "        if name[pos-1] != ' ':\n",
    "            name = name.replace('&', ' &')\n",
    "        # no space on the right\n",
    "        pos = name.find('&')\n",
    "        if name[pos+1] != ' ':\n",
    "            name = name.replace('&', '& ')\n",
    "    return name"
   ]
  },
  {
   "cell_type": "markdown",
   "id": "fb127b80-53b2-47a8-b6ed-d4c8ae6e5ec2",
   "metadata": {},
   "source": [
    "Apply all functions to name values"
   ]
  },
  {
   "cell_type": "code",
   "execution_count": 110,
   "id": "7437eedb-08b2-44f9-9129-de4e2c1eb319",
   "metadata": {},
   "outputs": [],
   "source": [
    "names = names.apply(remove_whitespaces)\n",
    "names = names.apply(replace_abbreviations)\n",
    "names = names.apply(replace_ampersand)"
   ]
  },
  {
   "cell_type": "markdown",
   "id": "1fe116bf-f040-42d3-b363-f4cac35685a3",
   "metadata": {},
   "source": [
    "Check the results and save to `data2`"
   ]
  },
  {
   "cell_type": "code",
   "execution_count": 111,
   "id": "8948ed19-38e8-4713-8f1c-1c70393125de",
   "metadata": {},
   "outputs": [
    {
     "data": {
      "text/plain": [
       "233397                                Cheezels Cheese\n",
       "184722                       Grain Waves Sweet Chilli\n",
       "243430             Kettle Tortilla ChipsFeta & Garlic\n",
       "207898                  Tyrrells Crisps Ched & Chives\n",
       "109515    Kettle Tortilla ChipsHoney & Jalapeno Chili\n",
       "142776              Smiths Crinkle Cut Chips Original\n",
       "256848                          Woolworths Mild Salsa\n",
       "185125                  Tyrrells Crisps Ched & Chives\n",
       "217479                          RRD Honey Soy Chicken\n",
       "185623                    Doritos Corn Chips Original\n",
       "161237                         Doritos Cheese Supreme\n",
       "231992                           RRD Chilli & Coconut\n",
       "213382                Smiths Crinkle Cut Snag & Sauce\n",
       "255136                 Thins Potato Chips Hot & Spicy\n",
       "201372                       Tostitos Smoked Chipotle\n",
       "61899               Old El Paso Salsa Dip Tomato Mild\n",
       "48599                               RRD Lime & Pepper\n",
       "45796                 Red Rock Deli Sp Salt & Truffle\n",
       "117762             Smiths Crinkle Cut French OnionDip\n",
       "144643                  Tyrrells Crisps Ched & Chives\n",
       "Name: product_name, dtype: object"
      ]
     },
     "execution_count": 111,
     "metadata": {},
     "output_type": "execute_result"
    }
   ],
   "source": [
    "names.sample(20)"
   ]
  },
  {
   "cell_type": "code",
   "execution_count": 112,
   "id": "c3b7985b-6497-4ea0-852c-ab24d29d005c",
   "metadata": {},
   "outputs": [],
   "source": [
    "data2.product_name = names"
   ]
  },
  {
   "cell_type": "code",
   "execution_count": 113,
   "id": "d3717696-3db2-45f7-b3c7-671a96524e4f",
   "metadata": {},
   "outputs": [
    {
     "data": {
      "text/html": [
       "<div>\n",
       "<style scoped>\n",
       "    .dataframe tbody tr th:only-of-type {\n",
       "        vertical-align: middle;\n",
       "    }\n",
       "\n",
       "    .dataframe tbody tr th {\n",
       "        vertical-align: top;\n",
       "    }\n",
       "\n",
       "    .dataframe thead th {\n",
       "        text-align: right;\n",
       "    }\n",
       "</style>\n",
       "<table border=\"1\" class=\"dataframe\">\n",
       "  <thead>\n",
       "    <tr style=\"text-align: right;\">\n",
       "      <th></th>\n",
       "      <th>date</th>\n",
       "      <th>store_num</th>\n",
       "      <th>loyalty_card_num</th>\n",
       "      <th>txn_id</th>\n",
       "      <th>product_number</th>\n",
       "      <th>product_name</th>\n",
       "      <th>product_quantity</th>\n",
       "      <th>total_sales</th>\n",
       "      <th>product_price</th>\n",
       "      <th>product_weight</th>\n",
       "    </tr>\n",
       "  </thead>\n",
       "  <tbody>\n",
       "    <tr>\n",
       "      <th>173153</th>\n",
       "      <td>2018-08-29</td>\n",
       "      <td>19</td>\n",
       "      <td>19080</td>\n",
       "      <td>16068</td>\n",
       "      <td>87</td>\n",
       "      <td>Infuzions BBQ Rib Prawn Crackers</td>\n",
       "      <td>1</td>\n",
       "      <td>3.8</td>\n",
       "      <td>3.8</td>\n",
       "      <td>110</td>\n",
       "    </tr>\n",
       "    <tr>\n",
       "      <th>128067</th>\n",
       "      <td>2019-03-24</td>\n",
       "      <td>156</td>\n",
       "      <td>156194</td>\n",
       "      <td>157929</td>\n",
       "      <td>55</td>\n",
       "      <td>Snbts Whlgrn Crisps Cheddr &amp; Mstrd</td>\n",
       "      <td>2</td>\n",
       "      <td>3.4</td>\n",
       "      <td>1.7</td>\n",
       "      <td>90</td>\n",
       "    </tr>\n",
       "    <tr>\n",
       "      <th>238207</th>\n",
       "      <td>2019-05-20</td>\n",
       "      <td>173</td>\n",
       "      <td>173012</td>\n",
       "      <td>174309</td>\n",
       "      <td>32</td>\n",
       "      <td>Kettle Sea Salt And Vinegar</td>\n",
       "      <td>1</td>\n",
       "      <td>5.4</td>\n",
       "      <td>5.4</td>\n",
       "      <td>175</td>\n",
       "    </tr>\n",
       "    <tr>\n",
       "      <th>223649</th>\n",
       "      <td>2019-02-12</td>\n",
       "      <td>154</td>\n",
       "      <td>154107</td>\n",
       "      <td>153895</td>\n",
       "      <td>90</td>\n",
       "      <td>Tostitos Smoked Chipotle</td>\n",
       "      <td>2</td>\n",
       "      <td>8.8</td>\n",
       "      <td>4.4</td>\n",
       "      <td>175</td>\n",
       "    </tr>\n",
       "    <tr>\n",
       "      <th>186111</th>\n",
       "      <td>2019-02-19</td>\n",
       "      <td>10</td>\n",
       "      <td>10231</td>\n",
       "      <td>10393</td>\n",
       "      <td>111</td>\n",
       "      <td>Smiths Chip Thinly Cut Original</td>\n",
       "      <td>2</td>\n",
       "      <td>6.0</td>\n",
       "      <td>3.0</td>\n",
       "      <td>175</td>\n",
       "    </tr>\n",
       "    <tr>\n",
       "      <th>240125</th>\n",
       "      <td>2019-03-19</td>\n",
       "      <td>22</td>\n",
       "      <td>22034</td>\n",
       "      <td>18173</td>\n",
       "      <td>112</td>\n",
       "      <td>Tyrrells Crisps Ched &amp; Chives</td>\n",
       "      <td>2</td>\n",
       "      <td>8.4</td>\n",
       "      <td>4.2</td>\n",
       "      <td>165</td>\n",
       "    </tr>\n",
       "    <tr>\n",
       "      <th>153406</th>\n",
       "      <td>2019-01-15</td>\n",
       "      <td>33</td>\n",
       "      <td>33016</td>\n",
       "      <td>29531</td>\n",
       "      <td>8</td>\n",
       "      <td>Smiths Crinkle Cut Chips Original</td>\n",
       "      <td>2</td>\n",
       "      <td>5.8</td>\n",
       "      <td>2.9</td>\n",
       "      <td>170</td>\n",
       "    </tr>\n",
       "    <tr>\n",
       "      <th>78931</th>\n",
       "      <td>2018-07-31</td>\n",
       "      <td>227</td>\n",
       "      <td>227003</td>\n",
       "      <td>228299</td>\n",
       "      <td>111</td>\n",
       "      <td>Smiths Chip Thinly Cut Original</td>\n",
       "      <td>2</td>\n",
       "      <td>6.0</td>\n",
       "      <td>3.0</td>\n",
       "      <td>175</td>\n",
       "    </tr>\n",
       "    <tr>\n",
       "      <th>261585</th>\n",
       "      <td>2018-12-23</td>\n",
       "      <td>126</td>\n",
       "      <td>126033</td>\n",
       "      <td>129875</td>\n",
       "      <td>20</td>\n",
       "      <td>Doritos Cheese Supreme</td>\n",
       "      <td>2</td>\n",
       "      <td>11.4</td>\n",
       "      <td>5.7</td>\n",
       "      <td>330</td>\n",
       "    </tr>\n",
       "    <tr>\n",
       "      <th>126023</th>\n",
       "      <td>2018-12-31</td>\n",
       "      <td>122</td>\n",
       "      <td>122227</td>\n",
       "      <td>125976</td>\n",
       "      <td>76</td>\n",
       "      <td>Woolworths Medium Salsa</td>\n",
       "      <td>2</td>\n",
       "      <td>3.0</td>\n",
       "      <td>1.5</td>\n",
       "      <td>300</td>\n",
       "    </tr>\n",
       "  </tbody>\n",
       "</table>\n",
       "</div>"
      ],
      "text/plain": [
       "             date  store_num  loyalty_card_num  txn_id  product_number  \\\n",
       "173153 2018-08-29         19             19080   16068              87   \n",
       "128067 2019-03-24        156            156194  157929              55   \n",
       "238207 2019-05-20        173            173012  174309              32   \n",
       "223649 2019-02-12        154            154107  153895              90   \n",
       "186111 2019-02-19         10             10231   10393             111   \n",
       "240125 2019-03-19         22             22034   18173             112   \n",
       "153406 2019-01-15         33             33016   29531               8   \n",
       "78931  2018-07-31        227            227003  228299             111   \n",
       "261585 2018-12-23        126            126033  129875              20   \n",
       "126023 2018-12-31        122            122227  125976              76   \n",
       "\n",
       "                              product_name  product_quantity  total_sales  \\\n",
       "173153    Infuzions BBQ Rib Prawn Crackers                 1          3.8   \n",
       "128067  Snbts Whlgrn Crisps Cheddr & Mstrd                 2          3.4   \n",
       "238207         Kettle Sea Salt And Vinegar                 1          5.4   \n",
       "223649            Tostitos Smoked Chipotle                 2          8.8   \n",
       "186111     Smiths Chip Thinly Cut Original                 2          6.0   \n",
       "240125       Tyrrells Crisps Ched & Chives                 2          8.4   \n",
       "153406   Smiths Crinkle Cut Chips Original                 2          5.8   \n",
       "78931      Smiths Chip Thinly Cut Original                 2          6.0   \n",
       "261585              Doritos Cheese Supreme                 2         11.4   \n",
       "126023             Woolworths Medium Salsa                 2          3.0   \n",
       "\n",
       "        product_price  product_weight  \n",
       "173153            3.8             110  \n",
       "128067            1.7              90  \n",
       "238207            5.4             175  \n",
       "223649            4.4             175  \n",
       "186111            3.0             175  \n",
       "240125            4.2             165  \n",
       "153406            2.9             170  \n",
       "78931             3.0             175  \n",
       "261585            5.7             330  \n",
       "126023            1.5             300  "
      ]
     },
     "execution_count": 113,
     "metadata": {},
     "output_type": "execute_result"
    }
   ],
   "source": [
    "data2.sample(10)"
   ]
  },
  {
   "cell_type": "markdown",
   "id": "a7bbfc64-1d8e-4f93-be75-29eee1cee738",
   "metadata": {},
   "source": [
    "## Merge datasets"
   ]
  },
  {
   "cell_type": "markdown",
   "id": "2a8c283c-bd93-45ef-88c6-e99f7aa22a04",
   "metadata": {},
   "source": [
    "After the cleaning, everything looks fine in the `transaction_data2` data2set. I will merge both transaction and purchase behaviour datasets. Both datasets have the `loyalty_card_num` in common, so this will be the join criterium to merge them."
   ]
  },
  {
   "cell_type": "code",
   "execution_count": 114,
   "id": "82b8e324-7566-42b2-afdf-f19925efdcae",
   "metadata": {},
   "outputs": [],
   "source": [
    "dataset = pd.merge(data1, data2, on='loyalty_card_num')"
   ]
  },
  {
   "cell_type": "markdown",
   "id": "c3cee164-311a-4c10-adf0-1a43aca4b5f0",
   "metadata": {},
   "source": [
    "Reorder columns in a more convenient way"
   ]
  },
  {
   "cell_type": "code",
   "execution_count": 115,
   "id": "6ba23ff4-3834-4ab7-a5d2-ce0f1c64b8c1",
   "metadata": {},
   "outputs": [
    {
     "data": {
      "text/html": [
       "<div>\n",
       "<style scoped>\n",
       "    .dataframe tbody tr th:only-of-type {\n",
       "        vertical-align: middle;\n",
       "    }\n",
       "\n",
       "    .dataframe tbody tr th {\n",
       "        vertical-align: top;\n",
       "    }\n",
       "\n",
       "    .dataframe thead th {\n",
       "        text-align: right;\n",
       "    }\n",
       "</style>\n",
       "<table border=\"1\" class=\"dataframe\">\n",
       "  <thead>\n",
       "    <tr style=\"text-align: right;\">\n",
       "      <th></th>\n",
       "      <th>loyalty_card_num</th>\n",
       "      <th>lifestage</th>\n",
       "      <th>premium_customer</th>\n",
       "      <th>date</th>\n",
       "      <th>store_num</th>\n",
       "      <th>txn_id</th>\n",
       "      <th>product_number</th>\n",
       "      <th>product_name</th>\n",
       "      <th>product_quantity</th>\n",
       "      <th>total_sales</th>\n",
       "      <th>product_price</th>\n",
       "      <th>product_weight</th>\n",
       "    </tr>\n",
       "  </thead>\n",
       "  <tbody>\n",
       "    <tr>\n",
       "      <th>0</th>\n",
       "      <td>1000</td>\n",
       "      <td>young singles / couples</td>\n",
       "      <td>premium</td>\n",
       "      <td>2018-10-17</td>\n",
       "      <td>1</td>\n",
       "      <td>1</td>\n",
       "      <td>5</td>\n",
       "      <td>Natural Chip Compny SeaSalt</td>\n",
       "      <td>2</td>\n",
       "      <td>6.0</td>\n",
       "      <td>3.0</td>\n",
       "      <td>175</td>\n",
       "    </tr>\n",
       "    <tr>\n",
       "      <th>1</th>\n",
       "      <td>1002</td>\n",
       "      <td>young singles / couples</td>\n",
       "      <td>mainstream</td>\n",
       "      <td>2018-09-16</td>\n",
       "      <td>1</td>\n",
       "      <td>2</td>\n",
       "      <td>58</td>\n",
       "      <td>Red Rock Deli Chikn &amp; Garlic Aioli</td>\n",
       "      <td>1</td>\n",
       "      <td>2.7</td>\n",
       "      <td>2.7</td>\n",
       "      <td>150</td>\n",
       "    </tr>\n",
       "    <tr>\n",
       "      <th>2</th>\n",
       "      <td>1003</td>\n",
       "      <td>young families</td>\n",
       "      <td>budget</td>\n",
       "      <td>2019-03-07</td>\n",
       "      <td>1</td>\n",
       "      <td>3</td>\n",
       "      <td>52</td>\n",
       "      <td>Grain Waves Sour Cream &amp; Chives</td>\n",
       "      <td>1</td>\n",
       "      <td>3.6</td>\n",
       "      <td>3.6</td>\n",
       "      <td>210</td>\n",
       "    </tr>\n",
       "    <tr>\n",
       "      <th>3</th>\n",
       "      <td>1003</td>\n",
       "      <td>young families</td>\n",
       "      <td>budget</td>\n",
       "      <td>2019-03-08</td>\n",
       "      <td>1</td>\n",
       "      <td>4</td>\n",
       "      <td>106</td>\n",
       "      <td>Natural ChipCo Hony Soy Chckn</td>\n",
       "      <td>1</td>\n",
       "      <td>3.0</td>\n",
       "      <td>3.0</td>\n",
       "      <td>175</td>\n",
       "    </tr>\n",
       "    <tr>\n",
       "      <th>4</th>\n",
       "      <td>1004</td>\n",
       "      <td>older singles / couples</td>\n",
       "      <td>mainstream</td>\n",
       "      <td>2018-11-02</td>\n",
       "      <td>1</td>\n",
       "      <td>5</td>\n",
       "      <td>96</td>\n",
       "      <td>WW Original Stacked Chips</td>\n",
       "      <td>1</td>\n",
       "      <td>1.9</td>\n",
       "      <td>1.9</td>\n",
       "      <td>160</td>\n",
       "    </tr>\n",
       "  </tbody>\n",
       "</table>\n",
       "</div>"
      ],
      "text/plain": [
       "   loyalty_card_num                lifestage premium_customer       date  \\\n",
       "0              1000  young singles / couples          premium 2018-10-17   \n",
       "1              1002  young singles / couples       mainstream 2018-09-16   \n",
       "2              1003           young families           budget 2019-03-07   \n",
       "3              1003           young families           budget 2019-03-08   \n",
       "4              1004  older singles / couples       mainstream 2018-11-02   \n",
       "\n",
       "   store_num  txn_id  product_number                        product_name  \\\n",
       "0          1       1               5         Natural Chip Compny SeaSalt   \n",
       "1          1       2              58  Red Rock Deli Chikn & Garlic Aioli   \n",
       "2          1       3              52     Grain Waves Sour Cream & Chives   \n",
       "3          1       4             106       Natural ChipCo Hony Soy Chckn   \n",
       "4          1       5              96           WW Original Stacked Chips   \n",
       "\n",
       "   product_quantity  total_sales  product_price  product_weight  \n",
       "0                 2          6.0            3.0             175  \n",
       "1                 1          2.7            2.7             150  \n",
       "2                 1          3.6            3.6             210  \n",
       "3                 1          3.0            3.0             175  \n",
       "4                 1          1.9            1.9             160  "
      ]
     },
     "execution_count": 115,
     "metadata": {},
     "output_type": "execute_result"
    }
   ],
   "source": [
    "dataset.head()"
   ]
  },
  {
   "cell_type": "code",
   "execution_count": 118,
   "id": "a10cf5fb-bec2-4829-9ec8-b01cc4dab15f",
   "metadata": {},
   "outputs": [],
   "source": [
    "new_order = 'loyalty_card_num premium_customer lifestage date store_num txn_id product_number product_name product_weight product_price product_quantity total_sales'.split(' ')"
   ]
  },
  {
   "cell_type": "code",
   "execution_count": 119,
   "id": "02b057e6-40e1-492d-b1ed-6f2abb33ed22",
   "metadata": {},
   "outputs": [
    {
     "data": {
      "text/html": [
       "<div>\n",
       "<style scoped>\n",
       "    .dataframe tbody tr th:only-of-type {\n",
       "        vertical-align: middle;\n",
       "    }\n",
       "\n",
       "    .dataframe tbody tr th {\n",
       "        vertical-align: top;\n",
       "    }\n",
       "\n",
       "    .dataframe thead th {\n",
       "        text-align: right;\n",
       "    }\n",
       "</style>\n",
       "<table border=\"1\" class=\"dataframe\">\n",
       "  <thead>\n",
       "    <tr style=\"text-align: right;\">\n",
       "      <th></th>\n",
       "      <th>loyalty_card_num</th>\n",
       "      <th>premium_customer</th>\n",
       "      <th>lifestage</th>\n",
       "      <th>date</th>\n",
       "      <th>store_num</th>\n",
       "      <th>txn_id</th>\n",
       "      <th>product_number</th>\n",
       "      <th>product_name</th>\n",
       "      <th>product_weight</th>\n",
       "      <th>product_price</th>\n",
       "      <th>product_quantity</th>\n",
       "      <th>total_sales</th>\n",
       "    </tr>\n",
       "  </thead>\n",
       "  <tbody>\n",
       "    <tr>\n",
       "      <th>0</th>\n",
       "      <td>1000</td>\n",
       "      <td>premium</td>\n",
       "      <td>young singles / couples</td>\n",
       "      <td>2018-10-17</td>\n",
       "      <td>1</td>\n",
       "      <td>1</td>\n",
       "      <td>5</td>\n",
       "      <td>Natural Chip Compny SeaSalt</td>\n",
       "      <td>175</td>\n",
       "      <td>3.0</td>\n",
       "      <td>2</td>\n",
       "      <td>6.0</td>\n",
       "    </tr>\n",
       "    <tr>\n",
       "      <th>1</th>\n",
       "      <td>1002</td>\n",
       "      <td>mainstream</td>\n",
       "      <td>young singles / couples</td>\n",
       "      <td>2018-09-16</td>\n",
       "      <td>1</td>\n",
       "      <td>2</td>\n",
       "      <td>58</td>\n",
       "      <td>Red Rock Deli Chikn &amp; Garlic Aioli</td>\n",
       "      <td>150</td>\n",
       "      <td>2.7</td>\n",
       "      <td>1</td>\n",
       "      <td>2.7</td>\n",
       "    </tr>\n",
       "    <tr>\n",
       "      <th>2</th>\n",
       "      <td>1003</td>\n",
       "      <td>budget</td>\n",
       "      <td>young families</td>\n",
       "      <td>2019-03-07</td>\n",
       "      <td>1</td>\n",
       "      <td>3</td>\n",
       "      <td>52</td>\n",
       "      <td>Grain Waves Sour Cream &amp; Chives</td>\n",
       "      <td>210</td>\n",
       "      <td>3.6</td>\n",
       "      <td>1</td>\n",
       "      <td>3.6</td>\n",
       "    </tr>\n",
       "    <tr>\n",
       "      <th>3</th>\n",
       "      <td>1003</td>\n",
       "      <td>budget</td>\n",
       "      <td>young families</td>\n",
       "      <td>2019-03-08</td>\n",
       "      <td>1</td>\n",
       "      <td>4</td>\n",
       "      <td>106</td>\n",
       "      <td>Natural ChipCo Hony Soy Chckn</td>\n",
       "      <td>175</td>\n",
       "      <td>3.0</td>\n",
       "      <td>1</td>\n",
       "      <td>3.0</td>\n",
       "    </tr>\n",
       "    <tr>\n",
       "      <th>4</th>\n",
       "      <td>1004</td>\n",
       "      <td>mainstream</td>\n",
       "      <td>older singles / couples</td>\n",
       "      <td>2018-11-02</td>\n",
       "      <td>1</td>\n",
       "      <td>5</td>\n",
       "      <td>96</td>\n",
       "      <td>WW Original Stacked Chips</td>\n",
       "      <td>160</td>\n",
       "      <td>1.9</td>\n",
       "      <td>1</td>\n",
       "      <td>1.9</td>\n",
       "    </tr>\n",
       "    <tr>\n",
       "      <th>...</th>\n",
       "      <td>...</td>\n",
       "      <td>...</td>\n",
       "      <td>...</td>\n",
       "      <td>...</td>\n",
       "      <td>...</td>\n",
       "      <td>...</td>\n",
       "      <td>...</td>\n",
       "      <td>...</td>\n",
       "      <td>...</td>\n",
       "      <td>...</td>\n",
       "      <td>...</td>\n",
       "      <td>...</td>\n",
       "    </tr>\n",
       "    <tr>\n",
       "      <th>264831</th>\n",
       "      <td>2370701</td>\n",
       "      <td>mainstream</td>\n",
       "      <td>young families</td>\n",
       "      <td>2018-12-08</td>\n",
       "      <td>88</td>\n",
       "      <td>240378</td>\n",
       "      <td>24</td>\n",
       "      <td>Grain Waves Sweet Chilli</td>\n",
       "      <td>210</td>\n",
       "      <td>3.6</td>\n",
       "      <td>2</td>\n",
       "      <td>7.2</td>\n",
       "    </tr>\n",
       "    <tr>\n",
       "      <th>264832</th>\n",
       "      <td>2370751</td>\n",
       "      <td>premium</td>\n",
       "      <td>young families</td>\n",
       "      <td>2018-10-01</td>\n",
       "      <td>88</td>\n",
       "      <td>240394</td>\n",
       "      <td>60</td>\n",
       "      <td>Kettle Tortilla ChipsFeta &amp; Garlic</td>\n",
       "      <td>150</td>\n",
       "      <td>4.6</td>\n",
       "      <td>2</td>\n",
       "      <td>9.2</td>\n",
       "    </tr>\n",
       "    <tr>\n",
       "      <th>264833</th>\n",
       "      <td>2370961</td>\n",
       "      <td>budget</td>\n",
       "      <td>older families</td>\n",
       "      <td>2018-10-24</td>\n",
       "      <td>88</td>\n",
       "      <td>240480</td>\n",
       "      <td>70</td>\n",
       "      <td>Tyrrells Crisps Lightly Salted</td>\n",
       "      <td>165</td>\n",
       "      <td>4.2</td>\n",
       "      <td>2</td>\n",
       "      <td>8.4</td>\n",
       "    </tr>\n",
       "    <tr>\n",
       "      <th>264834</th>\n",
       "      <td>2370961</td>\n",
       "      <td>budget</td>\n",
       "      <td>older families</td>\n",
       "      <td>2018-10-27</td>\n",
       "      <td>88</td>\n",
       "      <td>240481</td>\n",
       "      <td>65</td>\n",
       "      <td>Old El Paso Salsa Dip Chnky Tom Ht</td>\n",
       "      <td>300</td>\n",
       "      <td>5.1</td>\n",
       "      <td>2</td>\n",
       "      <td>10.2</td>\n",
       "    </tr>\n",
       "    <tr>\n",
       "      <th>264835</th>\n",
       "      <td>2373711</td>\n",
       "      <td>mainstream</td>\n",
       "      <td>young singles / couples</td>\n",
       "      <td>2018-12-14</td>\n",
       "      <td>88</td>\n",
       "      <td>241815</td>\n",
       "      <td>16</td>\n",
       "      <td>Smiths Crinkle Chips Salt &amp; Vinegar</td>\n",
       "      <td>330</td>\n",
       "      <td>5.7</td>\n",
       "      <td>2</td>\n",
       "      <td>11.4</td>\n",
       "    </tr>\n",
       "  </tbody>\n",
       "</table>\n",
       "<p>264836 rows × 12 columns</p>\n",
       "</div>"
      ],
      "text/plain": [
       "        loyalty_card_num premium_customer                lifestage       date  \\\n",
       "0                   1000          premium  young singles / couples 2018-10-17   \n",
       "1                   1002       mainstream  young singles / couples 2018-09-16   \n",
       "2                   1003           budget           young families 2019-03-07   \n",
       "3                   1003           budget           young families 2019-03-08   \n",
       "4                   1004       mainstream  older singles / couples 2018-11-02   \n",
       "...                  ...              ...                      ...        ...   \n",
       "264831           2370701       mainstream           young families 2018-12-08   \n",
       "264832           2370751          premium           young families 2018-10-01   \n",
       "264833           2370961           budget           older families 2018-10-24   \n",
       "264834           2370961           budget           older families 2018-10-27   \n",
       "264835           2373711       mainstream  young singles / couples 2018-12-14   \n",
       "\n",
       "        store_num  txn_id  product_number  \\\n",
       "0               1       1               5   \n",
       "1               1       2              58   \n",
       "2               1       3              52   \n",
       "3               1       4             106   \n",
       "4               1       5              96   \n",
       "...           ...     ...             ...   \n",
       "264831         88  240378              24   \n",
       "264832         88  240394              60   \n",
       "264833         88  240480              70   \n",
       "264834         88  240481              65   \n",
       "264835         88  241815              16   \n",
       "\n",
       "                               product_name  product_weight  product_price  \\\n",
       "0               Natural Chip Compny SeaSalt             175            3.0   \n",
       "1        Red Rock Deli Chikn & Garlic Aioli             150            2.7   \n",
       "2           Grain Waves Sour Cream & Chives             210            3.6   \n",
       "3             Natural ChipCo Hony Soy Chckn             175            3.0   \n",
       "4                 WW Original Stacked Chips             160            1.9   \n",
       "...                                     ...             ...            ...   \n",
       "264831             Grain Waves Sweet Chilli             210            3.6   \n",
       "264832   Kettle Tortilla ChipsFeta & Garlic             150            4.6   \n",
       "264833       Tyrrells Crisps Lightly Salted             165            4.2   \n",
       "264834   Old El Paso Salsa Dip Chnky Tom Ht             300            5.1   \n",
       "264835  Smiths Crinkle Chips Salt & Vinegar             330            5.7   \n",
       "\n",
       "        product_quantity  total_sales  \n",
       "0                      2          6.0  \n",
       "1                      1          2.7  \n",
       "2                      1          3.6  \n",
       "3                      1          3.0  \n",
       "4                      1          1.9  \n",
       "...                  ...          ...  \n",
       "264831                 2          7.2  \n",
       "264832                 2          9.2  \n",
       "264833                 2          8.4  \n",
       "264834                 2         10.2  \n",
       "264835                 2         11.4  \n",
       "\n",
       "[264836 rows x 12 columns]"
      ]
     },
     "execution_count": 119,
     "metadata": {},
     "output_type": "execute_result"
    }
   ],
   "source": [
    "dataset.reindex(columns = new_order)"
   ]
  },
  {
   "cell_type": "markdown",
   "id": "f0987315-60e1-4a70-9ca4-299a45fbcbb7",
   "metadata": {},
   "source": [
    "Last check of missing values"
   ]
  },
  {
   "cell_type": "code",
   "execution_count": 122,
   "id": "5d597ba7-0b11-4ebd-ab52-984d1d455112",
   "metadata": {},
   "outputs": [
    {
     "data": {
      "text/plain": [
       "True"
      ]
     },
     "execution_count": 122,
     "metadata": {},
     "output_type": "execute_result"
    }
   ],
   "source": [
    "(~ dataset.isnull().sum()).all()"
   ]
  },
  {
   "cell_type": "markdown",
   "id": "54aa7f2c-e646-4156-bca8-b19dc0ff21df",
   "metadata": {},
   "source": [
    "There are no missing values in any of the columns"
   ]
  },
  {
   "cell_type": "markdown",
   "id": "81d92d8d-ed2d-4493-aa32-9efbecf39da0",
   "metadata": {},
   "source": [
    "## Final export"
   ]
  },
  {
   "cell_type": "markdown",
   "id": "94e8278c-d1d3-4c4b-91e6-d252d01ce89a",
   "metadata": {},
   "source": [
    "Save the clean and merged dataset"
   ]
  },
  {
   "cell_type": "code",
   "execution_count": 123,
   "id": "7ec5eeaf-1985-462f-9d33-8867dbccb0ab",
   "metadata": {},
   "outputs": [],
   "source": [
    "dataset.to_csv('data/clean_merged_dataset.csv', index=False)"
   ]
  }
 ],
 "metadata": {
  "kernelspec": {
   "display_name": "Python 3 (ipykernel)",
   "language": "python",
   "name": "python3"
  },
  "language_info": {
   "codemirror_mode": {
    "name": "ipython",
    "version": 3
   },
   "file_extension": ".py",
   "mimetype": "text/x-python",
   "name": "python",
   "nbconvert_exporter": "python",
   "pygments_lexer": "ipython3",
   "version": "3.10.8"
  }
 },
 "nbformat": 4,
 "nbformat_minor": 5
}
