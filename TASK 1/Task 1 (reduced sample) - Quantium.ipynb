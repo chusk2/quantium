{
 "cells": [
  {
   "cell_type": "markdown",
   "id": "929b3130-bb43-4c7b-a915-cad73f681982",
   "metadata": {},
   "source": [
    "## Task 1 - Quantium"
   ]
  },
  {
   "cell_type": "code",
   "execution_count": 1,
   "id": "b5a4d847-0676-4944-96d6-f05582bcd23d",
   "metadata": {},
   "outputs": [],
   "source": [
    "import pandas as pd\n",
    "import numpy as np"
   ]
  },
  {
   "cell_type": "markdown",
   "id": "166c56fc-af4e-4cdf-888f-0f2d1858b582",
   "metadata": {},
   "source": [
    "## Inspect and clean `purchase_behaviour` dataset"
   ]
  },
  {
   "cell_type": "code",
   "execution_count": 2,
   "id": "7bc18264-7708-4f1e-9af4-4354e6abef49",
   "metadata": {},
   "outputs": [],
   "source": [
    "data = pd.read_csv('purchase_behaviour.csv')"
   ]
  },
  {
   "cell_type": "code",
   "execution_count": 3,
   "id": "4ea075cc-e526-406d-88ee-9dbbf8f91951",
   "metadata": {},
   "outputs": [
    {
     "data": {
      "text/html": [
       "<div>\n",
       "<style scoped>\n",
       "    .dataframe tbody tr th:only-of-type {\n",
       "        vertical-align: middle;\n",
       "    }\n",
       "\n",
       "    .dataframe tbody tr th {\n",
       "        vertical-align: top;\n",
       "    }\n",
       "\n",
       "    .dataframe thead th {\n",
       "        text-align: right;\n",
       "    }\n",
       "</style>\n",
       "<table border=\"1\" class=\"dataframe\">\n",
       "  <thead>\n",
       "    <tr style=\"text-align: right;\">\n",
       "      <th></th>\n",
       "      <th>LYLTY_CARD_NBR</th>\n",
       "      <th>LIFESTAGE</th>\n",
       "      <th>PREMIUM_CUSTOMER</th>\n",
       "    </tr>\n",
       "  </thead>\n",
       "  <tbody>\n",
       "    <tr>\n",
       "      <th>0</th>\n",
       "      <td>1000</td>\n",
       "      <td>YOUNG SINGLES/COUPLES</td>\n",
       "      <td>Premium</td>\n",
       "    </tr>\n",
       "    <tr>\n",
       "      <th>1</th>\n",
       "      <td>1002</td>\n",
       "      <td>YOUNG SINGLES/COUPLES</td>\n",
       "      <td>Mainstream</td>\n",
       "    </tr>\n",
       "    <tr>\n",
       "      <th>2</th>\n",
       "      <td>1003</td>\n",
       "      <td>YOUNG FAMILIES</td>\n",
       "      <td>Budget</td>\n",
       "    </tr>\n",
       "    <tr>\n",
       "      <th>3</th>\n",
       "      <td>1004</td>\n",
       "      <td>OLDER SINGLES/COUPLES</td>\n",
       "      <td>Mainstream</td>\n",
       "    </tr>\n",
       "    <tr>\n",
       "      <th>4</th>\n",
       "      <td>1005</td>\n",
       "      <td>MIDAGE SINGLES/COUPLES</td>\n",
       "      <td>Mainstream</td>\n",
       "    </tr>\n",
       "  </tbody>\n",
       "</table>\n",
       "</div>"
      ],
      "text/plain": [
       "   LYLTY_CARD_NBR               LIFESTAGE PREMIUM_CUSTOMER\n",
       "0            1000   YOUNG SINGLES/COUPLES          Premium\n",
       "1            1002   YOUNG SINGLES/COUPLES       Mainstream\n",
       "2            1003          YOUNG FAMILIES           Budget\n",
       "3            1004   OLDER SINGLES/COUPLES       Mainstream\n",
       "4            1005  MIDAGE SINGLES/COUPLES       Mainstream"
      ]
     },
     "execution_count": 3,
     "metadata": {},
     "output_type": "execute_result"
    }
   ],
   "source": [
    "data.head()"
   ]
  },
  {
   "cell_type": "markdown",
   "id": "f2cd4acc-621c-4335-b8b1-3b9c0012d340",
   "metadata": {},
   "source": [
    "## Rename and lowercase the column names"
   ]
  },
  {
   "cell_type": "code",
   "execution_count": 4,
   "id": "b372a781-c8af-405e-a80c-f30525b80824",
   "metadata": {},
   "outputs": [],
   "source": [
    "data.columns = ['loyalty_card_num', 'lifestage', 'premium_customer']"
   ]
  },
  {
   "cell_type": "code",
   "execution_count": 6,
   "id": "ae34cbe9-f983-4c46-9d85-b865ac7cbdc3",
   "metadata": {},
   "outputs": [],
   "source": [
    "data.lifestage = data.lifestage.str.lower()"
   ]
  },
  {
   "cell_type": "code",
   "execution_count": 8,
   "id": "76e3de3e-1222-4ca3-a4c3-34fac5f63927",
   "metadata": {},
   "outputs": [],
   "source": [
    "data.lifestage = data.lifestage.str.replace('/' , ' / ') "
   ]
  },
  {
   "cell_type": "code",
   "execution_count": 11,
   "id": "094fb0a1-10a3-47a7-a6e3-e4f5798e0561",
   "metadata": {},
   "outputs": [],
   "source": [
    "data.premium_customer = data.premium_customer.str.lower()"
   ]
  },
  {
   "cell_type": "markdown",
   "id": "d2e05cbf-7d23-4ce4-a555-cb0b3c84f2d3",
   "metadata": {},
   "source": [
    "## Check nulls and unique values"
   ]
  },
  {
   "cell_type": "code",
   "execution_count": 7,
   "id": "51f7058a-08b3-481e-b1de-d4bba9fcb385",
   "metadata": {},
   "outputs": [
    {
     "data": {
      "text/plain": [
       "array(['young singles/couples', 'young families', 'older singles/couples',\n",
       "       'midage singles/couples', 'new families', 'older families',\n",
       "       'retirees'], dtype=object)"
      ]
     },
     "execution_count": 7,
     "metadata": {},
     "output_type": "execute_result"
    }
   ],
   "source": [
    "data.lifestage.unique()"
   ]
  },
  {
   "cell_type": "code",
   "execution_count": 9,
   "id": "aff91588-d84d-4d38-8f2f-b8473fb74276",
   "metadata": {},
   "outputs": [
    {
     "data": {
      "text/plain": [
       "array(['young singles / couples', 'young families',\n",
       "       'older singles / couples', 'midage singles / couples',\n",
       "       'new families', 'older families', 'retirees'], dtype=object)"
      ]
     },
     "execution_count": 9,
     "metadata": {},
     "output_type": "execute_result"
    }
   ],
   "source": [
    "data.lifestage.unique()"
   ]
  },
  {
   "cell_type": "code",
   "execution_count": 10,
   "id": "de49f607-74d2-4a75-987f-296082c4b044",
   "metadata": {},
   "outputs": [
    {
     "data": {
      "text/plain": [
       "array(['Premium', 'Mainstream', 'Budget'], dtype=object)"
      ]
     },
     "execution_count": 10,
     "metadata": {},
     "output_type": "execute_result"
    }
   ],
   "source": [
    "data.premium_customer.unique()"
   ]
  },
  {
   "cell_type": "code",
   "execution_count": 15,
   "id": "87f01b14-ecf9-4ec9-9873-97b2e70f5a05",
   "metadata": {},
   "outputs": [
    {
     "data": {
      "text/plain": [
       "loyalty_card_num    0\n",
       "lifestage           0\n",
       "premium_customer    0\n",
       "dtype: int64"
      ]
     },
     "execution_count": 15,
     "metadata": {},
     "output_type": "execute_result"
    }
   ],
   "source": [
    "data.isnull().sum()"
   ]
  },
  {
   "cell_type": "markdown",
   "id": "bdc42fc4-54a9-41c5-b93f-3e070caaca13",
   "metadata": {},
   "source": [
    "## Check dtypes"
   ]
  },
  {
   "cell_type": "code",
   "execution_count": 12,
   "id": "364dee57-a523-46a2-b018-0fcce22f3663",
   "metadata": {},
   "outputs": [
    {
     "data": {
      "text/plain": [
       "loyalty_card_num     int64\n",
       "lifestage           object\n",
       "premium_customer    object\n",
       "dtype: object"
      ]
     },
     "execution_count": 12,
     "metadata": {},
     "output_type": "execute_result"
    }
   ],
   "source": [
    "data.dtypes"
   ]
  },
  {
   "cell_type": "markdown",
   "id": "6a30c398-2dc3-4dda-976b-bd32a804c0eb",
   "metadata": {},
   "source": [
    "## Take a sample and check the dataset values"
   ]
  },
  {
   "cell_type": "code",
   "execution_count": 17,
   "id": "48b7a5a2-28c3-4592-a151-3e491c0ea842",
   "metadata": {},
   "outputs": [
    {
     "data": {
      "text/html": [
       "<div>\n",
       "<style scoped>\n",
       "    .dataframe tbody tr th:only-of-type {\n",
       "        vertical-align: middle;\n",
       "    }\n",
       "\n",
       "    .dataframe tbody tr th {\n",
       "        vertical-align: top;\n",
       "    }\n",
       "\n",
       "    .dataframe thead th {\n",
       "        text-align: right;\n",
       "    }\n",
       "</style>\n",
       "<table border=\"1\" class=\"dataframe\">\n",
       "  <thead>\n",
       "    <tr style=\"text-align: right;\">\n",
       "      <th></th>\n",
       "      <th>loyalty_card_num</th>\n",
       "      <th>lifestage</th>\n",
       "      <th>premium_customer</th>\n",
       "    </tr>\n",
       "  </thead>\n",
       "  <tbody>\n",
       "    <tr>\n",
       "      <th>28124</th>\n",
       "      <td>103188</td>\n",
       "      <td>young singles / couples</td>\n",
       "      <td>budget</td>\n",
       "    </tr>\n",
       "    <tr>\n",
       "      <th>26602</th>\n",
       "      <td>96290</td>\n",
       "      <td>new families</td>\n",
       "      <td>mainstream</td>\n",
       "    </tr>\n",
       "    <tr>\n",
       "      <th>33003</th>\n",
       "      <td>121440</td>\n",
       "      <td>retirees</td>\n",
       "      <td>mainstream</td>\n",
       "    </tr>\n",
       "    <tr>\n",
       "      <th>47414</th>\n",
       "      <td>176501</td>\n",
       "      <td>new families</td>\n",
       "      <td>budget</td>\n",
       "    </tr>\n",
       "    <tr>\n",
       "      <th>1976</th>\n",
       "      <td>7009</td>\n",
       "      <td>retirees</td>\n",
       "      <td>premium</td>\n",
       "    </tr>\n",
       "    <tr>\n",
       "      <th>12645</th>\n",
       "      <td>47154</td>\n",
       "      <td>young singles / couples</td>\n",
       "      <td>budget</td>\n",
       "    </tr>\n",
       "    <tr>\n",
       "      <th>69002</th>\n",
       "      <td>258454</td>\n",
       "      <td>retirees</td>\n",
       "      <td>mainstream</td>\n",
       "    </tr>\n",
       "    <tr>\n",
       "      <th>41800</th>\n",
       "      <td>155303</td>\n",
       "      <td>young families</td>\n",
       "      <td>mainstream</td>\n",
       "    </tr>\n",
       "    <tr>\n",
       "      <th>42573</th>\n",
       "      <td>160120</td>\n",
       "      <td>midage singles / couples</td>\n",
       "      <td>budget</td>\n",
       "    </tr>\n",
       "    <tr>\n",
       "      <th>46582</th>\n",
       "      <td>174222</td>\n",
       "      <td>young families</td>\n",
       "      <td>budget</td>\n",
       "    </tr>\n",
       "    <tr>\n",
       "      <th>20720</th>\n",
       "      <td>75109</td>\n",
       "      <td>young families</td>\n",
       "      <td>budget</td>\n",
       "    </tr>\n",
       "    <tr>\n",
       "      <th>26816</th>\n",
       "      <td>97155</td>\n",
       "      <td>older singles / couples</td>\n",
       "      <td>mainstream</td>\n",
       "    </tr>\n",
       "    <tr>\n",
       "      <th>30742</th>\n",
       "      <td>113078</td>\n",
       "      <td>young families</td>\n",
       "      <td>mainstream</td>\n",
       "    </tr>\n",
       "    <tr>\n",
       "      <th>57699</th>\n",
       "      <td>217226</td>\n",
       "      <td>older families</td>\n",
       "      <td>premium</td>\n",
       "    </tr>\n",
       "    <tr>\n",
       "      <th>59777</th>\n",
       "      <td>226084</td>\n",
       "      <td>young families</td>\n",
       "      <td>mainstream</td>\n",
       "    </tr>\n",
       "  </tbody>\n",
       "</table>\n",
       "</div>"
      ],
      "text/plain": [
       "       loyalty_card_num                 lifestage premium_customer\n",
       "28124            103188   young singles / couples           budget\n",
       "26602             96290              new families       mainstream\n",
       "33003            121440                  retirees       mainstream\n",
       "47414            176501              new families           budget\n",
       "1976               7009                  retirees          premium\n",
       "12645             47154   young singles / couples           budget\n",
       "69002            258454                  retirees       mainstream\n",
       "41800            155303            young families       mainstream\n",
       "42573            160120  midage singles / couples           budget\n",
       "46582            174222            young families           budget\n",
       "20720             75109            young families           budget\n",
       "26816             97155   older singles / couples       mainstream\n",
       "30742            113078            young families       mainstream\n",
       "57699            217226            older families          premium\n",
       "59777            226084            young families       mainstream"
      ]
     },
     "execution_count": 17,
     "metadata": {},
     "output_type": "execute_result"
    }
   ],
   "source": [
    "data.sample(15)"
   ]
  },
  {
   "cell_type": "markdown",
   "id": "1a2cea8c-02d1-436f-8076-166c3dccb28f",
   "metadata": {},
   "source": [
    "## It looks clean. Save it to a csv file"
   ]
  },
  {
   "cell_type": "code",
   "execution_count": 18,
   "id": "865b6c04-ed0d-4165-8480-452663216064",
   "metadata": {},
   "outputs": [],
   "source": [
    "data.to_csv('purchase_behaviour_clean.csv', index=False)"
   ]
  },
  {
   "cell_type": "markdown",
   "id": "2a0c7d10-75b0-4aaf-8da7-586c346449ea",
   "metadata": {},
   "source": [
    "## Import transaction data"
   ]
  },
  {
   "cell_type": "code",
   "execution_count": 123,
   "id": "cb6e57a1-4816-4598-ba13-5a9798f8be76",
   "metadata": {},
   "outputs": [],
   "source": [
    "raw_data = pd.read_excel('transaction_data.xlsx')"
   ]
  },
  {
   "cell_type": "code",
   "execution_count": 182,
   "id": "19c190f4-4336-424f-b339-2c72916f781d",
   "metadata": {},
   "outputs": [],
   "source": [
    "data = raw_data.sample(frac = 0.4)"
   ]
  },
  {
   "cell_type": "code",
   "execution_count": 183,
   "id": "faa990b3-8121-4f07-a4d2-d0d7190c87dc",
   "metadata": {},
   "outputs": [
    {
     "data": {
      "text/html": [
       "<div>\n",
       "<style scoped>\n",
       "    .dataframe tbody tr th:only-of-type {\n",
       "        vertical-align: middle;\n",
       "    }\n",
       "\n",
       "    .dataframe tbody tr th {\n",
       "        vertical-align: top;\n",
       "    }\n",
       "\n",
       "    .dataframe thead th {\n",
       "        text-align: right;\n",
       "    }\n",
       "</style>\n",
       "<table border=\"1\" class=\"dataframe\">\n",
       "  <thead>\n",
       "    <tr style=\"text-align: right;\">\n",
       "      <th></th>\n",
       "      <th>DATE</th>\n",
       "      <th>STORE_NBR</th>\n",
       "      <th>LYLTY_CARD_NBR</th>\n",
       "      <th>TXN_ID</th>\n",
       "      <th>PROD_NBR</th>\n",
       "      <th>PROD_NAME</th>\n",
       "      <th>PROD_QTY</th>\n",
       "      <th>TOT_SALES</th>\n",
       "    </tr>\n",
       "  </thead>\n",
       "  <tbody>\n",
       "    <tr>\n",
       "      <th>208928</th>\n",
       "      <td>43537</td>\n",
       "      <td>101</td>\n",
       "      <td>101167</td>\n",
       "      <td>101005</td>\n",
       "      <td>41</td>\n",
       "      <td>Doritos Salsa Mild  300g</td>\n",
       "      <td>2</td>\n",
       "      <td>5.2</td>\n",
       "    </tr>\n",
       "    <tr>\n",
       "      <th>119583</th>\n",
       "      <td>43513</td>\n",
       "      <td>26</td>\n",
       "      <td>26379</td>\n",
       "      <td>23922</td>\n",
       "      <td>4</td>\n",
       "      <td>Dorito Corn Chp     Supreme 380g</td>\n",
       "      <td>2</td>\n",
       "      <td>13.0</td>\n",
       "    </tr>\n",
       "    <tr>\n",
       "      <th>88304</th>\n",
       "      <td>43563</td>\n",
       "      <td>106</td>\n",
       "      <td>106221</td>\n",
       "      <td>108067</td>\n",
       "      <td>46</td>\n",
       "      <td>Kettle Original 175g</td>\n",
       "      <td>2</td>\n",
       "      <td>10.8</td>\n",
       "    </tr>\n",
       "    <tr>\n",
       "      <th>73355</th>\n",
       "      <td>43496</td>\n",
       "      <td>91</td>\n",
       "      <td>91153</td>\n",
       "      <td>89769</td>\n",
       "      <td>109</td>\n",
       "      <td>Pringles Barbeque   134g</td>\n",
       "      <td>2</td>\n",
       "      <td>7.4</td>\n",
       "    </tr>\n",
       "    <tr>\n",
       "      <th>263140</th>\n",
       "      <td>43493</td>\n",
       "      <td>197</td>\n",
       "      <td>197433</td>\n",
       "      <td>197424</td>\n",
       "      <td>86</td>\n",
       "      <td>Cheetos Puffs 165g</td>\n",
       "      <td>1</td>\n",
       "      <td>2.8</td>\n",
       "    </tr>\n",
       "  </tbody>\n",
       "</table>\n",
       "</div>"
      ],
      "text/plain": [
       "         DATE  STORE_NBR  LYLTY_CARD_NBR  TXN_ID  PROD_NBR  \\\n",
       "208928  43537        101          101167  101005        41   \n",
       "119583  43513         26           26379   23922         4   \n",
       "88304   43563        106          106221  108067        46   \n",
       "73355   43496         91           91153   89769       109   \n",
       "263140  43493        197          197433  197424        86   \n",
       "\n",
       "                               PROD_NAME  PROD_QTY  TOT_SALES  \n",
       "208928          Doritos Salsa Mild  300g         2        5.2  \n",
       "119583  Dorito Corn Chp     Supreme 380g         2       13.0  \n",
       "88304               Kettle Original 175g         2       10.8  \n",
       "73355           Pringles Barbeque   134g         2        7.4  \n",
       "263140                Cheetos Puffs 165g         1        2.8  "
      ]
     },
     "execution_count": 183,
     "metadata": {},
     "output_type": "execute_result"
    }
   ],
   "source": [
    "data.head()"
   ]
  },
  {
   "cell_type": "markdown",
   "id": "0afd09fd-73e7-4567-bf80-04315f385036",
   "metadata": {},
   "source": [
    "## Rename column names and lowercase"
   ]
  },
  {
   "cell_type": "code",
   "execution_count": 184,
   "id": "21e5526a-f530-4dd7-afea-22e434650450",
   "metadata": {},
   "outputs": [],
   "source": [
    "data.columns = [i.lower() for i in data.columns]\n",
    "data = data.rename(columns = {'store_nbr' : 'store_num', 'lylty_card_nbr' : 'loyalty_card_num', 'prod_name' : 'product_name' , 'prod_nbr' : 'product_number', 'prod_qty' : 'product_quantity', 'tot_sales' : 'total_sales'})"
   ]
  },
  {
   "cell_type": "code",
   "execution_count": 185,
   "id": "a02caa8e-6e63-49a8-82b2-e273782bc3af",
   "metadata": {},
   "outputs": [
    {
     "data": {
      "text/html": [
       "<div>\n",
       "<style scoped>\n",
       "    .dataframe tbody tr th:only-of-type {\n",
       "        vertical-align: middle;\n",
       "    }\n",
       "\n",
       "    .dataframe tbody tr th {\n",
       "        vertical-align: top;\n",
       "    }\n",
       "\n",
       "    .dataframe thead th {\n",
       "        text-align: right;\n",
       "    }\n",
       "</style>\n",
       "<table border=\"1\" class=\"dataframe\">\n",
       "  <thead>\n",
       "    <tr style=\"text-align: right;\">\n",
       "      <th></th>\n",
       "      <th>date</th>\n",
       "      <th>store_num</th>\n",
       "      <th>loyalty_card_num</th>\n",
       "      <th>txn_id</th>\n",
       "      <th>product_number</th>\n",
       "      <th>product_name</th>\n",
       "      <th>product_quantity</th>\n",
       "      <th>total_sales</th>\n",
       "    </tr>\n",
       "  </thead>\n",
       "  <tbody>\n",
       "    <tr>\n",
       "      <th>53976</th>\n",
       "      <td>43525</td>\n",
       "      <td>255</td>\n",
       "      <td>255124</td>\n",
       "      <td>254686</td>\n",
       "      <td>82</td>\n",
       "      <td>Smith Crinkle Cut   Mac N Cheese 150g</td>\n",
       "      <td>1</td>\n",
       "      <td>2.6</td>\n",
       "    </tr>\n",
       "    <tr>\n",
       "      <th>4019</th>\n",
       "      <td>43484</td>\n",
       "      <td>216</td>\n",
       "      <td>216036</td>\n",
       "      <td>214837</td>\n",
       "      <td>75</td>\n",
       "      <td>Cobs Popd Sea Salt  Chips 110g</td>\n",
       "      <td>2</td>\n",
       "      <td>7.6</td>\n",
       "    </tr>\n",
       "    <tr>\n",
       "      <th>222319</th>\n",
       "      <td>43559</td>\n",
       "      <td>115</td>\n",
       "      <td>115099</td>\n",
       "      <td>118625</td>\n",
       "      <td>10</td>\n",
       "      <td>RRD SR Slow Rst     Pork Belly 150g</td>\n",
       "      <td>2</td>\n",
       "      <td>5.4</td>\n",
       "    </tr>\n",
       "    <tr>\n",
       "      <th>215426</th>\n",
       "      <td>43506</td>\n",
       "      <td>236</td>\n",
       "      <td>236035</td>\n",
       "      <td>238751</td>\n",
       "      <td>90</td>\n",
       "      <td>Tostitos Smoked     Chipotle 175g</td>\n",
       "      <td>2</td>\n",
       "      <td>8.8</td>\n",
       "    </tr>\n",
       "    <tr>\n",
       "      <th>217252</th>\n",
       "      <td>43603</td>\n",
       "      <td>209</td>\n",
       "      <td>209238</td>\n",
       "      <td>208858</td>\n",
       "      <td>2</td>\n",
       "      <td>Cobs Popd Sour Crm  &amp;Chives Chips 110g</td>\n",
       "      <td>2</td>\n",
       "      <td>7.6</td>\n",
       "    </tr>\n",
       "    <tr>\n",
       "      <th>260379</th>\n",
       "      <td>43551</td>\n",
       "      <td>73</td>\n",
       "      <td>73105</td>\n",
       "      <td>72383</td>\n",
       "      <td>21</td>\n",
       "      <td>WW Sour Cream &amp;OnionStacked Chips 160g</td>\n",
       "      <td>2</td>\n",
       "      <td>3.8</td>\n",
       "    </tr>\n",
       "    <tr>\n",
       "      <th>172613</th>\n",
       "      <td>43577</td>\n",
       "      <td>6</td>\n",
       "      <td>6457</td>\n",
       "      <td>6268</td>\n",
       "      <td>75</td>\n",
       "      <td>Cobs Popd Sea Salt  Chips 110g</td>\n",
       "      <td>2</td>\n",
       "      <td>7.6</td>\n",
       "    </tr>\n",
       "    <tr>\n",
       "      <th>192594</th>\n",
       "      <td>43494</td>\n",
       "      <td>105</td>\n",
       "      <td>105024</td>\n",
       "      <td>105366</td>\n",
       "      <td>1</td>\n",
       "      <td>Smiths Crinkle Cut  Chips Barbecue 170g</td>\n",
       "      <td>2</td>\n",
       "      <td>5.8</td>\n",
       "    </tr>\n",
       "    <tr>\n",
       "      <th>225079</th>\n",
       "      <td>43376</td>\n",
       "      <td>184</td>\n",
       "      <td>184072</td>\n",
       "      <td>186685</td>\n",
       "      <td>33</td>\n",
       "      <td>Cobs Popd Swt/Chlli &amp;Sr/Cream Chips 110g</td>\n",
       "      <td>2</td>\n",
       "      <td>7.6</td>\n",
       "    </tr>\n",
       "    <tr>\n",
       "      <th>469</th>\n",
       "      <td>43322</td>\n",
       "      <td>16</td>\n",
       "      <td>16313</td>\n",
       "      <td>14440</td>\n",
       "      <td>6</td>\n",
       "      <td>RRD Lime &amp; Pepper   165g</td>\n",
       "      <td>1</td>\n",
       "      <td>3.0</td>\n",
       "    </tr>\n",
       "  </tbody>\n",
       "</table>\n",
       "</div>"
      ],
      "text/plain": [
       "         date  store_num  loyalty_card_num  txn_id  product_number  \\\n",
       "53976   43525        255            255124  254686              82   \n",
       "4019    43484        216            216036  214837              75   \n",
       "222319  43559        115            115099  118625              10   \n",
       "215426  43506        236            236035  238751              90   \n",
       "217252  43603        209            209238  208858               2   \n",
       "260379  43551         73             73105   72383              21   \n",
       "172613  43577          6              6457    6268              75   \n",
       "192594  43494        105            105024  105366               1   \n",
       "225079  43376        184            184072  186685              33   \n",
       "469     43322         16             16313   14440               6   \n",
       "\n",
       "                                    product_name  product_quantity  \\\n",
       "53976      Smith Crinkle Cut   Mac N Cheese 150g                 1   \n",
       "4019              Cobs Popd Sea Salt  Chips 110g                 2   \n",
       "222319       RRD SR Slow Rst     Pork Belly 150g                 2   \n",
       "215426         Tostitos Smoked     Chipotle 175g                 2   \n",
       "217252    Cobs Popd Sour Crm  &Chives Chips 110g                 2   \n",
       "260379    WW Sour Cream &OnionStacked Chips 160g                 2   \n",
       "172613            Cobs Popd Sea Salt  Chips 110g                 2   \n",
       "192594   Smiths Crinkle Cut  Chips Barbecue 170g                 2   \n",
       "225079  Cobs Popd Swt/Chlli &Sr/Cream Chips 110g                 2   \n",
       "469                     RRD Lime & Pepper   165g                 1   \n",
       "\n",
       "        total_sales  \n",
       "53976           2.6  \n",
       "4019            7.6  \n",
       "222319          5.4  \n",
       "215426          8.8  \n",
       "217252          7.6  \n",
       "260379          3.8  \n",
       "172613          7.6  \n",
       "192594          5.8  \n",
       "225079          7.6  \n",
       "469             3.0  "
      ]
     },
     "execution_count": 185,
     "metadata": {},
     "output_type": "execute_result"
    }
   ],
   "source": [
    "data.sample(10)"
   ]
  },
  {
   "cell_type": "markdown",
   "id": "9f1f228e-f336-40ca-be8c-4568549059b6",
   "metadata": {},
   "source": [
    "## Check dtypes and missing values"
   ]
  },
  {
   "cell_type": "code",
   "execution_count": 186,
   "id": "7cb7aa26-a2ce-40ba-82e9-61ba2e584acb",
   "metadata": {},
   "outputs": [
    {
     "data": {
      "text/plain": [
       "date                  int64\n",
       "store_num             int64\n",
       "loyalty_card_num      int64\n",
       "txn_id                int64\n",
       "product_number        int64\n",
       "product_name         object\n",
       "product_quantity      int64\n",
       "total_sales         float64\n",
       "dtype: object"
      ]
     },
     "execution_count": 186,
     "metadata": {},
     "output_type": "execute_result"
    }
   ],
   "source": [
    "data.dtypes"
   ]
  },
  {
   "cell_type": "markdown",
   "id": "c6c2bb46-cf11-49dd-b83a-945d8100aff2",
   "metadata": {},
   "source": [
    "`date` should have been imported in date format. I will go up and fix the import statement.  \n",
    "Back from import statement, the values in the `date` column are integers. They are in the format of times passed since 30th December 1899. I use the proper parameter in `pd.to_datetime()`"
   ]
  },
  {
   "cell_type": "code",
   "execution_count": 187,
   "id": "cad83f50-38b4-48f6-973c-86d535d9a6e4",
   "metadata": {},
   "outputs": [],
   "source": [
    "data.date = pd.to_datetime(data['date'], unit='d', origin='1899-12-30')"
   ]
  },
  {
   "cell_type": "code",
   "execution_count": 188,
   "id": "5a872dbe-5c0b-4873-8509-691ec7844c7e",
   "metadata": {},
   "outputs": [
    {
     "data": {
      "text/plain": [
       "date                datetime64[ns]\n",
       "store_num                    int64\n",
       "loyalty_card_num             int64\n",
       "txn_id                       int64\n",
       "product_number               int64\n",
       "product_name                object\n",
       "product_quantity             int64\n",
       "total_sales                float64\n",
       "dtype: object"
      ]
     },
     "execution_count": 188,
     "metadata": {},
     "output_type": "execute_result"
    }
   ],
   "source": [
    "data.dtypes"
   ]
  },
  {
   "cell_type": "markdown",
   "id": "92084d71-5169-4965-a0b3-1e6216732787",
   "metadata": {},
   "source": [
    "Now the dtypes look right. Move on to missing values study"
   ]
  },
  {
   "cell_type": "code",
   "execution_count": 189,
   "id": "7b5ad9dd-0e40-40a5-b3d6-f5873c753b3a",
   "metadata": {},
   "outputs": [
    {
     "data": {
      "text/plain": [
       "date                0\n",
       "store_num           0\n",
       "loyalty_card_num    0\n",
       "txn_id              0\n",
       "product_number      0\n",
       "product_name        0\n",
       "product_quantity    0\n",
       "total_sales         0\n",
       "dtype: int64"
      ]
     },
     "execution_count": 189,
     "metadata": {},
     "output_type": "execute_result"
    }
   ],
   "source": [
    "data.isnull().sum()"
   ]
  },
  {
   "cell_type": "code",
   "execution_count": 190,
   "id": "41d2b0c3-b34d-4982-ad30-c06706307241",
   "metadata": {},
   "outputs": [
    {
     "data": {
      "text/html": [
       "<div>\n",
       "<style scoped>\n",
       "    .dataframe tbody tr th:only-of-type {\n",
       "        vertical-align: middle;\n",
       "    }\n",
       "\n",
       "    .dataframe tbody tr th {\n",
       "        vertical-align: top;\n",
       "    }\n",
       "\n",
       "    .dataframe thead th {\n",
       "        text-align: right;\n",
       "    }\n",
       "</style>\n",
       "<table border=\"1\" class=\"dataframe\">\n",
       "  <thead>\n",
       "    <tr style=\"text-align: right;\">\n",
       "      <th></th>\n",
       "      <th>date</th>\n",
       "      <th>store_num</th>\n",
       "      <th>loyalty_card_num</th>\n",
       "      <th>txn_id</th>\n",
       "      <th>product_number</th>\n",
       "      <th>product_name</th>\n",
       "      <th>product_quantity</th>\n",
       "      <th>total_sales</th>\n",
       "    </tr>\n",
       "  </thead>\n",
       "  <tbody>\n",
       "    <tr>\n",
       "      <th>57196</th>\n",
       "      <td>2018-12-27</td>\n",
       "      <td>36</td>\n",
       "      <td>36342</td>\n",
       "      <td>33353</td>\n",
       "      <td>25</td>\n",
       "      <td>Pringles SourCream  Onion 134g</td>\n",
       "      <td>2</td>\n",
       "      <td>7.4</td>\n",
       "    </tr>\n",
       "    <tr>\n",
       "      <th>58069</th>\n",
       "      <td>2018-10-30</td>\n",
       "      <td>56</td>\n",
       "      <td>56082</td>\n",
       "      <td>50469</td>\n",
       "      <td>60</td>\n",
       "      <td>Kettle Tortilla ChpsFeta&amp;Garlic 150g</td>\n",
       "      <td>2</td>\n",
       "      <td>9.2</td>\n",
       "    </tr>\n",
       "    <tr>\n",
       "      <th>80666</th>\n",
       "      <td>2018-08-17</td>\n",
       "      <td>19</td>\n",
       "      <td>19067</td>\n",
       "      <td>16018</td>\n",
       "      <td>46</td>\n",
       "      <td>Kettle Original 175g</td>\n",
       "      <td>1</td>\n",
       "      <td>5.4</td>\n",
       "    </tr>\n",
       "    <tr>\n",
       "      <th>136178</th>\n",
       "      <td>2019-04-01</td>\n",
       "      <td>7</td>\n",
       "      <td>7146</td>\n",
       "      <td>6887</td>\n",
       "      <td>109</td>\n",
       "      <td>Pringles Barbeque   134g</td>\n",
       "      <td>1</td>\n",
       "      <td>3.7</td>\n",
       "    </tr>\n",
       "    <tr>\n",
       "      <th>30534</th>\n",
       "      <td>2018-11-30</td>\n",
       "      <td>4</td>\n",
       "      <td>4241</td>\n",
       "      <td>3749</td>\n",
       "      <td>60</td>\n",
       "      <td>Kettle Tortilla ChpsFeta&amp;Garlic 150g</td>\n",
       "      <td>2</td>\n",
       "      <td>9.2</td>\n",
       "    </tr>\n",
       "    <tr>\n",
       "      <th>8439</th>\n",
       "      <td>2018-08-11</td>\n",
       "      <td>72</td>\n",
       "      <td>72214</td>\n",
       "      <td>71540</td>\n",
       "      <td>32</td>\n",
       "      <td>Kettle Sea Salt     And Vinegar 175g</td>\n",
       "      <td>2</td>\n",
       "      <td>10.8</td>\n",
       "    </tr>\n",
       "    <tr>\n",
       "      <th>208996</th>\n",
       "      <td>2019-02-26</td>\n",
       "      <td>102</td>\n",
       "      <td>102183</td>\n",
       "      <td>102631</td>\n",
       "      <td>17</td>\n",
       "      <td>Kettle Sensations   BBQ&amp;Maple 150g</td>\n",
       "      <td>2</td>\n",
       "      <td>9.2</td>\n",
       "    </tr>\n",
       "    <tr>\n",
       "      <th>14729</th>\n",
       "      <td>2019-06-04</td>\n",
       "      <td>219</td>\n",
       "      <td>219239</td>\n",
       "      <td>219413</td>\n",
       "      <td>34</td>\n",
       "      <td>Pringles Slt Vingar 134g</td>\n",
       "      <td>2</td>\n",
       "      <td>7.4</td>\n",
       "    </tr>\n",
       "    <tr>\n",
       "      <th>93726</th>\n",
       "      <td>2018-12-16</td>\n",
       "      <td>186</td>\n",
       "      <td>186464</td>\n",
       "      <td>188828</td>\n",
       "      <td>33</td>\n",
       "      <td>Cobs Popd Swt/Chlli &amp;Sr/Cream Chips 110g</td>\n",
       "      <td>2</td>\n",
       "      <td>7.6</td>\n",
       "    </tr>\n",
       "    <tr>\n",
       "      <th>193021</th>\n",
       "      <td>2018-09-08</td>\n",
       "      <td>109</td>\n",
       "      <td>109142</td>\n",
       "      <td>111029</td>\n",
       "      <td>102</td>\n",
       "      <td>Kettle Mozzarella   Basil &amp; Pesto 175g</td>\n",
       "      <td>2</td>\n",
       "      <td>10.8</td>\n",
       "    </tr>\n",
       "    <tr>\n",
       "      <th>27395</th>\n",
       "      <td>2019-04-22</td>\n",
       "      <td>201</td>\n",
       "      <td>201267</td>\n",
       "      <td>201109</td>\n",
       "      <td>68</td>\n",
       "      <td>Pringles Chicken    Salt Crips 134g</td>\n",
       "      <td>2</td>\n",
       "      <td>7.4</td>\n",
       "    </tr>\n",
       "    <tr>\n",
       "      <th>166062</th>\n",
       "      <td>2019-02-08</td>\n",
       "      <td>201</td>\n",
       "      <td>201089</td>\n",
       "      <td>200321</td>\n",
       "      <td>104</td>\n",
       "      <td>Infuzions Thai SweetChili PotatoMix 110g</td>\n",
       "      <td>2</td>\n",
       "      <td>7.6</td>\n",
       "    </tr>\n",
       "    <tr>\n",
       "      <th>218538</th>\n",
       "      <td>2018-09-25</td>\n",
       "      <td>33</td>\n",
       "      <td>33060</td>\n",
       "      <td>29799</td>\n",
       "      <td>30</td>\n",
       "      <td>Doritos Corn Chips  Cheese Supreme 170g</td>\n",
       "      <td>2</td>\n",
       "      <td>8.8</td>\n",
       "    </tr>\n",
       "    <tr>\n",
       "      <th>130608</th>\n",
       "      <td>2019-04-20</td>\n",
       "      <td>198</td>\n",
       "      <td>198231</td>\n",
       "      <td>197528</td>\n",
       "      <td>76</td>\n",
       "      <td>Woolworths Medium   Salsa 300g</td>\n",
       "      <td>1</td>\n",
       "      <td>1.5</td>\n",
       "    </tr>\n",
       "    <tr>\n",
       "      <th>144323</th>\n",
       "      <td>2018-11-08</td>\n",
       "      <td>162</td>\n",
       "      <td>162031</td>\n",
       "      <td>162013</td>\n",
       "      <td>67</td>\n",
       "      <td>RRD Chilli&amp;         Coconut 150g</td>\n",
       "      <td>2</td>\n",
       "      <td>5.4</td>\n",
       "    </tr>\n",
       "  </tbody>\n",
       "</table>\n",
       "</div>"
      ],
      "text/plain": [
       "             date  store_num  loyalty_card_num  txn_id  product_number  \\\n",
       "57196  2018-12-27         36             36342   33353              25   \n",
       "58069  2018-10-30         56             56082   50469              60   \n",
       "80666  2018-08-17         19             19067   16018              46   \n",
       "136178 2019-04-01          7              7146    6887             109   \n",
       "30534  2018-11-30          4              4241    3749              60   \n",
       "8439   2018-08-11         72             72214   71540              32   \n",
       "208996 2019-02-26        102            102183  102631              17   \n",
       "14729  2019-06-04        219            219239  219413              34   \n",
       "93726  2018-12-16        186            186464  188828              33   \n",
       "193021 2018-09-08        109            109142  111029             102   \n",
       "27395  2019-04-22        201            201267  201109              68   \n",
       "166062 2019-02-08        201            201089  200321             104   \n",
       "218538 2018-09-25         33             33060   29799              30   \n",
       "130608 2019-04-20        198            198231  197528              76   \n",
       "144323 2018-11-08        162            162031  162013              67   \n",
       "\n",
       "                                    product_name  product_quantity  \\\n",
       "57196             Pringles SourCream  Onion 134g                 2   \n",
       "58069       Kettle Tortilla ChpsFeta&Garlic 150g                 2   \n",
       "80666                       Kettle Original 175g                 1   \n",
       "136178                  Pringles Barbeque   134g                 1   \n",
       "30534       Kettle Tortilla ChpsFeta&Garlic 150g                 2   \n",
       "8439        Kettle Sea Salt     And Vinegar 175g                 2   \n",
       "208996        Kettle Sensations   BBQ&Maple 150g                 2   \n",
       "14729                   Pringles Slt Vingar 134g                 2   \n",
       "93726   Cobs Popd Swt/Chlli &Sr/Cream Chips 110g                 2   \n",
       "193021    Kettle Mozzarella   Basil & Pesto 175g                 2   \n",
       "27395        Pringles Chicken    Salt Crips 134g                 2   \n",
       "166062  Infuzions Thai SweetChili PotatoMix 110g                 2   \n",
       "218538   Doritos Corn Chips  Cheese Supreme 170g                 2   \n",
       "130608            Woolworths Medium   Salsa 300g                 1   \n",
       "144323          RRD Chilli&         Coconut 150g                 2   \n",
       "\n",
       "        total_sales  \n",
       "57196           7.4  \n",
       "58069           9.2  \n",
       "80666           5.4  \n",
       "136178          3.7  \n",
       "30534           9.2  \n",
       "8439           10.8  \n",
       "208996          9.2  \n",
       "14729           7.4  \n",
       "93726           7.6  \n",
       "193021         10.8  \n",
       "27395           7.4  \n",
       "166062          7.6  \n",
       "218538          8.8  \n",
       "130608          1.5  \n",
       "144323          5.4  "
      ]
     },
     "execution_count": 190,
     "metadata": {},
     "output_type": "execute_result"
    }
   ],
   "source": [
    "data.sample(15)"
   ]
  },
  {
   "cell_type": "markdown",
   "id": "12f17cb4-7da9-4042-9ec3-936d50fcd23d",
   "metadata": {},
   "source": [
    "## Extract weight values from `product_name`"
   ]
  },
  {
   "cell_type": "code",
   "execution_count": 191,
   "id": "ebfd266c-30b9-48ae-a50e-23dad1aaf3d8",
   "metadata": {},
   "outputs": [
    {
     "data": {
      "text/plain": [
       "208928                    Doritos Salsa Mild  300g\n",
       "119583            Dorito Corn Chp     Supreme 380g\n",
       "88304                         Kettle Original 175g\n",
       "73355                     Pringles Barbeque   134g\n",
       "263140                          Cheetos Puffs 165g\n",
       "                            ...                   \n",
       "72302      Kettle Tortilla ChpsBtroot&Ricotta 150g\n",
       "195514         RRD Sweet Chilli &  Sour Cream 165g\n",
       "99516      Infuzions BBQ Rib   Prawn Crackers 110g\n",
       "7902      Infuzions Thai SweetChili PotatoMix 110g\n",
       "32955         Kettle Tortilla ChpsFeta&Garlic 150g\n",
       "Name: product_name, Length: 105934, dtype: object"
      ]
     },
     "execution_count": 191,
     "metadata": {},
     "output_type": "execute_result"
    }
   ],
   "source": [
    "data.product_name"
   ]
  },
  {
   "cell_type": "code",
   "execution_count": 192,
   "id": "4516152c-382b-4db5-b696-39f1a1187147",
   "metadata": {},
   "outputs": [],
   "source": [
    "names = data.product_name.copy(deep=True)"
   ]
  },
  {
   "cell_type": "markdown",
   "id": "398d094f-946d-477e-9845-1ccebde3234f",
   "metadata": {},
   "source": [
    "### Create a `product_weight` with the weight of the product"
   ]
  },
  {
   "cell_type": "markdown",
   "id": "cc9f0d2a-5a83-4b2a-a058-8d1ba925b4f1",
   "metadata": {},
   "source": [
    "Check if all the weight values are only three figures values"
   ]
  },
  {
   "cell_type": "code",
   "execution_count": 193,
   "id": "ee653b80-9756-4d70-b9d2-66b952576e2f",
   "metadata": {},
   "outputs": [],
   "source": [
    "weights = names.apply(lambda x : x[-4:])"
   ]
  },
  {
   "cell_type": "markdown",
   "id": "a7a808c3-8822-4db0-aa84-a6ac28bc19f2",
   "metadata": {},
   "source": [
    "Some weights could be invalid"
   ]
  },
  {
   "cell_type": "code",
   "execution_count": 194,
   "id": "c246f50e-b2e8-42e7-b46e-756aa8895e09",
   "metadata": {},
   "outputs": [
    {
     "data": {
      "text/plain": [
       "False"
      ]
     },
     "execution_count": 194,
     "metadata": {},
     "output_type": "execute_result"
    }
   ],
   "source": [
    "weights.apply(lambda x : x[0].isnumeric() ).all()"
   ]
  },
  {
   "cell_type": "code",
   "execution_count": 195,
   "id": "74483154-5122-4a2d-905d-05403cbb81ac",
   "metadata": {},
   "outputs": [],
   "source": [
    "invalid_weights = weights[ ~ weights.apply(lambda x : x[0].isnumeric() ) ]"
   ]
  },
  {
   "cell_type": "code",
   "execution_count": 196,
   "id": "3dfc7ca1-8936-4f56-9ad2-7b5b38ef76ae",
   "metadata": {},
   "outputs": [
    {
     "data": {
      "text/plain": [
       "array(['Salt', ' 90g', ' 70g'], dtype=object)"
      ]
     },
     "execution_count": 196,
     "metadata": {},
     "output_type": "execute_result"
    }
   ],
   "source": [
    "invalid_weights.unique()"
   ]
  },
  {
   "cell_type": "markdown",
   "id": "e78ce37a-5663-4a4f-a839-7309e457881e",
   "metadata": {},
   "source": [
    "Some products are lighter than 100 grams and others have no weight value at the end of the name."
   ]
  },
  {
   "cell_type": "code",
   "execution_count": 197,
   "id": "5d253e63-9aae-466a-a322-dab521e77a33",
   "metadata": {},
   "outputs": [
    {
     "data": {
      "text/plain": [
       "156595    Kettle 135g Swt Pot Sea Salt\n",
       "218057    Kettle 135g Swt Pot Sea Salt\n",
       "170482    Kettle 135g Swt Pot Sea Salt\n",
       "20036     Kettle 135g Swt Pot Sea Salt\n",
       "236158    Kettle 135g Swt Pot Sea Salt\n",
       "                      ...             \n",
       "200808    Kettle 135g Swt Pot Sea Salt\n",
       "122624    Kettle 135g Swt Pot Sea Salt\n",
       "231301    Kettle 135g Swt Pot Sea Salt\n",
       "200758    Kettle 135g Swt Pot Sea Salt\n",
       "252523    Kettle 135g Swt Pot Sea Salt\n",
       "Name: product_name, Length: 1269, dtype: object"
      ]
     },
     "execution_count": 197,
     "metadata": {},
     "output_type": "execute_result"
    }
   ],
   "source": [
    "names[names.str.endswith('Salt')]"
   ]
  },
  {
   "cell_type": "markdown",
   "id": "b1c3f84f-6787-4e84-b94a-ff8a4040fdcd",
   "metadata": {},
   "source": [
    "Those products have the weight information in the middle of the name."
   ]
  },
  {
   "cell_type": "code",
   "execution_count": 198,
   "id": "0ce8e047-725c-4326-9cdc-cc89e88a79c8",
   "metadata": {},
   "outputs": [
    {
     "data": {
      "text/plain": [
       "array(['Kettle 135g Swt Pot Sea Salt'], dtype=object)"
      ]
     },
     "execution_count": 198,
     "metadata": {},
     "output_type": "execute_result"
    }
   ],
   "source": [
    "names[names.str.endswith('Salt')].unique()"
   ]
  },
  {
   "cell_type": "markdown",
   "id": "c05c62fd-4162-4a57-bee3-9001adfd96c9",
   "metadata": {},
   "source": [
    "Create a function to extract the weight info from the product name"
   ]
  },
  {
   "cell_type": "code",
   "execution_count": 208,
   "id": "90b08ce2-2438-4604-886b-bfff72f5c006",
   "metadata": {},
   "outputs": [],
   "source": [
    "def extract_weight(name):\n",
    "    # three digits weight\n",
    "    if name[-4].isnumeric():\n",
    "        return float(name[-4:-1])\n",
    "    # two digits weight\n",
    "    elif name[-4] ==' ':\n",
    "        return float(name[-3:-1])\n",
    "    elif name == 'Kettle 135g Swt Pot Sea Salt' :\n",
    "        return 135\n",
    "    # by now, any other format of name will return NaN\n",
    "    else :\n",
    "        return np.nan"
   ]
  },
  {
   "cell_type": "code",
   "execution_count": 209,
   "id": "8b46f7aa-6c08-4600-b895-349115ff0b73",
   "metadata": {},
   "outputs": [],
   "source": [
    "product_weight = names.apply(extract_weight)"
   ]
  },
  {
   "cell_type": "code",
   "execution_count": 210,
   "id": "289c9390-6d2d-4c58-a217-fa0b34b25e5e",
   "metadata": {},
   "outputs": [
    {
     "data": {
      "text/plain": [
       "0"
      ]
     },
     "execution_count": 210,
     "metadata": {},
     "output_type": "execute_result"
    }
   ],
   "source": [
    "product_weight.isnull().sum()"
   ]
  },
  {
   "cell_type": "code",
   "execution_count": 211,
   "id": "a2aa358f-122b-4ae4-a8da-1246fe44561b",
   "metadata": {},
   "outputs": [
    {
     "data": {
      "text/plain": [
       "array([300., 380., 175., 134., 165., 150., 110., 200., 160., 330., 170.,\n",
       "       190., 135., 270., 180., 210., 250.,  90.,  70., 125., 220.])"
      ]
     },
     "execution_count": 211,
     "metadata": {},
     "output_type": "execute_result"
    }
   ],
   "source": [
    "product_weight.unique()"
   ]
  },
  {
   "cell_type": "code",
   "execution_count": 207,
   "id": "edb8ea7c-3014-4949-950b-a627e7d7e203",
   "metadata": {},
   "outputs": [
    {
     "name": "stdout",
     "output_type": "stream",
     "text": [
      "Size of the product name column: 105934 vs total processed values 105934.\n",
      "There is a difference of 0\n"
     ]
    }
   ],
   "source": [
    "print(f'Size of the product name column: {names.shape[0]} vs total processed values {product_weight.notnull().sum()}.')\n",
    "print(f'There is a difference of {names.shape[0] - product_weight.notnull().sum()}')"
   ]
  },
  {
   "cell_type": "markdown",
   "id": "f32ee517-eb86-4773-b5df-3de62c626c36",
   "metadata": {},
   "source": [
    "After having applied the `extract_weight` function, it seems all the weight values have been extracted.  \n",
    "Now i will apply the a slightly modified version of the function to remove the weight info from the name and store it a new column named `product_weight`."
   ]
  },
  {
   "cell_type": "code",
   "execution_count": 212,
   "id": "1071ab18-1100-4fa4-a4c7-fba7c513d6a9",
   "metadata": {},
   "outputs": [],
   "source": [
    "def extract_weight_from_name(name):\n",
    "    # three digits weight\n",
    "    if name[-4].isnumeric():\n",
    "        clean_name = name[:-4]\n",
    "        weight = float(name[-4:-1])\n",
    "    # two digits weight\n",
    "    elif name[-4] ==' ':\n",
    "        clean_name = name[:-3]\n",
    "        weight = float(name[-3:-1])\n",
    "    elif name == 'Kettle 135g Swt Pot Sea Salt' :\n",
    "        clean_name = name.replace('135g ', '')\n",
    "        weight = 135\n",
    "    # by now, any other format of name will return NaN\n",
    "    else :\n",
    "        clean_name = name\n",
    "        weight = np.nan\n",
    "    return clean_name, weight"
   ]
  },
  {
   "cell_type": "code",
   "execution_count": 213,
   "id": "e3fd4783-47e7-4dbc-8dbd-297741c7800d",
   "metadata": {},
   "outputs": [],
   "source": [
    "clean_names = names.apply(extract_weight_from_name).apply(lambda x: x[0].strip())"
   ]
  },
  {
   "cell_type": "code",
   "execution_count": 214,
   "id": "7b17ddcf-1fb5-4e07-93f9-3cd146959739",
   "metadata": {},
   "outputs": [
    {
     "data": {
      "text/plain": [
       "0"
      ]
     },
     "execution_count": 214,
     "metadata": {},
     "output_type": "execute_result"
    }
   ],
   "source": [
    "clean_names.isnull().sum()"
   ]
  },
  {
   "cell_type": "code",
   "execution_count": 215,
   "id": "6d49f47b-16da-40b1-b169-7fa1ad79e658",
   "metadata": {},
   "outputs": [],
   "source": [
    "weights = names.apply(extract_weight_from_name).apply(lambda x: x[1])"
   ]
  },
  {
   "cell_type": "code",
   "execution_count": 220,
   "id": "fecd9e9e-50ae-4b53-a2fe-ae274ef93fd8",
   "metadata": {},
   "outputs": [
    {
     "data": {
      "text/html": [
       "<div>\n",
       "<style scoped>\n",
       "    .dataframe tbody tr th:only-of-type {\n",
       "        vertical-align: middle;\n",
       "    }\n",
       "\n",
       "    .dataframe tbody tr th {\n",
       "        vertical-align: top;\n",
       "    }\n",
       "\n",
       "    .dataframe thead th {\n",
       "        text-align: right;\n",
       "    }\n",
       "</style>\n",
       "<table border=\"1\" class=\"dataframe\">\n",
       "  <thead>\n",
       "    <tr style=\"text-align: right;\">\n",
       "      <th></th>\n",
       "      <th>name</th>\n",
       "      <th>weight</th>\n",
       "    </tr>\n",
       "  </thead>\n",
       "  <tbody>\n",
       "    <tr>\n",
       "      <th>208928</th>\n",
       "      <td>Doritos Salsa Mild</td>\n",
       "      <td>300.0</td>\n",
       "    </tr>\n",
       "    <tr>\n",
       "      <th>119583</th>\n",
       "      <td>Dorito Corn Chp     Supreme</td>\n",
       "      <td>380.0</td>\n",
       "    </tr>\n",
       "    <tr>\n",
       "      <th>88304</th>\n",
       "      <td>Kettle Original</td>\n",
       "      <td>175.0</td>\n",
       "    </tr>\n",
       "    <tr>\n",
       "      <th>73355</th>\n",
       "      <td>Pringles Barbeque</td>\n",
       "      <td>134.0</td>\n",
       "    </tr>\n",
       "    <tr>\n",
       "      <th>263140</th>\n",
       "      <td>Cheetos Puffs</td>\n",
       "      <td>165.0</td>\n",
       "    </tr>\n",
       "    <tr>\n",
       "      <th>...</th>\n",
       "      <td>...</td>\n",
       "      <td>...</td>\n",
       "    </tr>\n",
       "    <tr>\n",
       "      <th>72302</th>\n",
       "      <td>Kettle Tortilla ChpsBtroot&amp;Ricotta</td>\n",
       "      <td>150.0</td>\n",
       "    </tr>\n",
       "    <tr>\n",
       "      <th>195514</th>\n",
       "      <td>RRD Sweet Chilli &amp;  Sour Cream</td>\n",
       "      <td>165.0</td>\n",
       "    </tr>\n",
       "    <tr>\n",
       "      <th>99516</th>\n",
       "      <td>Infuzions BBQ Rib   Prawn Crackers</td>\n",
       "      <td>110.0</td>\n",
       "    </tr>\n",
       "    <tr>\n",
       "      <th>7902</th>\n",
       "      <td>Infuzions Thai SweetChili PotatoMix</td>\n",
       "      <td>110.0</td>\n",
       "    </tr>\n",
       "    <tr>\n",
       "      <th>32955</th>\n",
       "      <td>Kettle Tortilla ChpsFeta&amp;Garlic</td>\n",
       "      <td>150.0</td>\n",
       "    </tr>\n",
       "  </tbody>\n",
       "</table>\n",
       "<p>105934 rows × 2 columns</p>\n",
       "</div>"
      ],
      "text/plain": [
       "                                       name  weight\n",
       "208928                   Doritos Salsa Mild   300.0\n",
       "119583          Dorito Corn Chp     Supreme   380.0\n",
       "88304                       Kettle Original   175.0\n",
       "73355                     Pringles Barbeque   134.0\n",
       "263140                        Cheetos Puffs   165.0\n",
       "...                                     ...     ...\n",
       "72302    Kettle Tortilla ChpsBtroot&Ricotta   150.0\n",
       "195514       RRD Sweet Chilli &  Sour Cream   165.0\n",
       "99516    Infuzions BBQ Rib   Prawn Crackers   110.0\n",
       "7902    Infuzions Thai SweetChili PotatoMix   110.0\n",
       "32955       Kettle Tortilla ChpsFeta&Garlic   150.0\n",
       "\n",
       "[105934 rows x 2 columns]"
      ]
     },
     "execution_count": 220,
     "metadata": {},
     "output_type": "execute_result"
    }
   ],
   "source": [
    "pd.DataFrame({'name': clean_names, 'weight' : weights})"
   ]
  },
  {
   "cell_type": "code",
   "execution_count": 219,
   "id": "ac8869c8-02aa-430d-8eb7-05ac5c6972b4",
   "metadata": {},
   "outputs": [
    {
     "data": {
      "text/plain": [
       "name      0\n",
       "weight    0\n",
       "dtype: int64"
      ]
     },
     "execution_count": 219,
     "metadata": {},
     "output_type": "execute_result"
    }
   ],
   "source": [
    "pd.DataFrame({'name': clean_names, 'weight' : weights}).isnull().sum()"
   ]
  },
  {
   "cell_type": "markdown",
   "id": "7960721a-047b-4302-a46c-21d07e719cd3",
   "metadata": {},
   "source": [
    "Since there are no missing values, there's no need to store the weights as float. I will convert to integer"
   ]
  },
  {
   "cell_type": "code",
   "execution_count": 221,
   "id": "2d8cba25-8ba7-488c-ac4b-4559f5a5bce9",
   "metadata": {},
   "outputs": [],
   "source": [
    "weights = weights.astype(int)"
   ]
  },
  {
   "cell_type": "markdown",
   "id": "78c35a92-f9ce-494f-8203-96a258beb5be",
   "metadata": {},
   "source": [
    "### Add the `clean_names` and `weight` to dataset"
   ]
  },
  {
   "cell_type": "code",
   "execution_count": 222,
   "id": "19e301ba-77dd-4a23-bb94-f6b09f91ffdf",
   "metadata": {},
   "outputs": [],
   "source": [
    "data.product_name = clean_names\n",
    "data['product_weight'] = weights"
   ]
  },
  {
   "cell_type": "code",
   "execution_count": 223,
   "id": "23e51d6b-738d-4d74-be4a-7925028bde05",
   "metadata": {},
   "outputs": [
    {
     "data": {
      "text/html": [
       "<div>\n",
       "<style scoped>\n",
       "    .dataframe tbody tr th:only-of-type {\n",
       "        vertical-align: middle;\n",
       "    }\n",
       "\n",
       "    .dataframe tbody tr th {\n",
       "        vertical-align: top;\n",
       "    }\n",
       "\n",
       "    .dataframe thead th {\n",
       "        text-align: right;\n",
       "    }\n",
       "</style>\n",
       "<table border=\"1\" class=\"dataframe\">\n",
       "  <thead>\n",
       "    <tr style=\"text-align: right;\">\n",
       "      <th></th>\n",
       "      <th>date</th>\n",
       "      <th>store_num</th>\n",
       "      <th>loyalty_card_num</th>\n",
       "      <th>txn_id</th>\n",
       "      <th>product_number</th>\n",
       "      <th>product_name</th>\n",
       "      <th>product_quantity</th>\n",
       "      <th>total_sales</th>\n",
       "      <th>product_weight</th>\n",
       "    </tr>\n",
       "  </thead>\n",
       "  <tbody>\n",
       "    <tr>\n",
       "      <th>198750</th>\n",
       "      <td>2019-04-27</td>\n",
       "      <td>191</td>\n",
       "      <td>191116</td>\n",
       "      <td>192453</td>\n",
       "      <td>75</td>\n",
       "      <td>Cobs Popd Sea Salt  Chips</td>\n",
       "      <td>2</td>\n",
       "      <td>7.6</td>\n",
       "      <td>110</td>\n",
       "    </tr>\n",
       "    <tr>\n",
       "      <th>251458</th>\n",
       "      <td>2019-04-04</td>\n",
       "      <td>173</td>\n",
       "      <td>173168</td>\n",
       "      <td>174586</td>\n",
       "      <td>14</td>\n",
       "      <td>Smiths Crnkle Chip  Orgnl Big Bag</td>\n",
       "      <td>2</td>\n",
       "      <td>11.8</td>\n",
       "      <td>380</td>\n",
       "    </tr>\n",
       "    <tr>\n",
       "      <th>212316</th>\n",
       "      <td>2018-10-25</td>\n",
       "      <td>168</td>\n",
       "      <td>168059</td>\n",
       "      <td>169699</td>\n",
       "      <td>108</td>\n",
       "      <td>Kettle Tortilla ChpsHny&amp;Jlpno Chili</td>\n",
       "      <td>2</td>\n",
       "      <td>9.2</td>\n",
       "      <td>150</td>\n",
       "    </tr>\n",
       "    <tr>\n",
       "      <th>168629</th>\n",
       "      <td>2019-04-16</td>\n",
       "      <td>229</td>\n",
       "      <td>229157</td>\n",
       "      <td>231296</td>\n",
       "      <td>50</td>\n",
       "      <td>Tostitos Lightly    Salted</td>\n",
       "      <td>2</td>\n",
       "      <td>8.8</td>\n",
       "      <td>175</td>\n",
       "    </tr>\n",
       "    <tr>\n",
       "      <th>92443</th>\n",
       "      <td>2019-06-27</td>\n",
       "      <td>167</td>\n",
       "      <td>167337</td>\n",
       "      <td>169160</td>\n",
       "      <td>98</td>\n",
       "      <td>NCC Sour Cream &amp;    Garden Chives</td>\n",
       "      <td>2</td>\n",
       "      <td>6.0</td>\n",
       "      <td>175</td>\n",
       "    </tr>\n",
       "    <tr>\n",
       "      <th>136636</th>\n",
       "      <td>2018-09-16</td>\n",
       "      <td>17</td>\n",
       "      <td>17352</td>\n",
       "      <td>15134</td>\n",
       "      <td>3</td>\n",
       "      <td>Kettle Sensations   Camembert &amp; Fig</td>\n",
       "      <td>2</td>\n",
       "      <td>9.2</td>\n",
       "      <td>150</td>\n",
       "    </tr>\n",
       "    <tr>\n",
       "      <th>106952</th>\n",
       "      <td>2019-05-12</td>\n",
       "      <td>105</td>\n",
       "      <td>105001</td>\n",
       "      <td>105206</td>\n",
       "      <td>111</td>\n",
       "      <td>Smiths Chip Thinly  Cut Original</td>\n",
       "      <td>2</td>\n",
       "      <td>6.0</td>\n",
       "      <td>175</td>\n",
       "    </tr>\n",
       "    <tr>\n",
       "      <th>103109</th>\n",
       "      <td>2018-11-23</td>\n",
       "      <td>55</td>\n",
       "      <td>55067</td>\n",
       "      <td>48847</td>\n",
       "      <td>70</td>\n",
       "      <td>Tyrrells Crisps     Lightly Salted</td>\n",
       "      <td>2</td>\n",
       "      <td>8.4</td>\n",
       "      <td>165</td>\n",
       "    </tr>\n",
       "    <tr>\n",
       "      <th>89731</th>\n",
       "      <td>2018-08-28</td>\n",
       "      <td>125</td>\n",
       "      <td>125076</td>\n",
       "      <td>128583</td>\n",
       "      <td>57</td>\n",
       "      <td>Old El Paso Salsa   Dip Tomato Mild</td>\n",
       "      <td>2</td>\n",
       "      <td>10.2</td>\n",
       "      <td>300</td>\n",
       "    </tr>\n",
       "    <tr>\n",
       "      <th>180984</th>\n",
       "      <td>2018-09-15</td>\n",
       "      <td>190</td>\n",
       "      <td>190091</td>\n",
       "      <td>190781</td>\n",
       "      <td>57</td>\n",
       "      <td>Old El Paso Salsa   Dip Tomato Mild</td>\n",
       "      <td>2</td>\n",
       "      <td>10.2</td>\n",
       "      <td>300</td>\n",
       "    </tr>\n",
       "    <tr>\n",
       "      <th>149318</th>\n",
       "      <td>2018-11-29</td>\n",
       "      <td>250</td>\n",
       "      <td>250231</td>\n",
       "      <td>252423</td>\n",
       "      <td>93</td>\n",
       "      <td>Doritos Corn Chip Southern Chicken</td>\n",
       "      <td>2</td>\n",
       "      <td>7.8</td>\n",
       "      <td>150</td>\n",
       "    </tr>\n",
       "    <tr>\n",
       "      <th>61966</th>\n",
       "      <td>2018-09-12</td>\n",
       "      <td>116</td>\n",
       "      <td>116240</td>\n",
       "      <td>120611</td>\n",
       "      <td>15</td>\n",
       "      <td>Twisties Cheese</td>\n",
       "      <td>2</td>\n",
       "      <td>9.2</td>\n",
       "      <td>270</td>\n",
       "    </tr>\n",
       "    <tr>\n",
       "      <th>217849</th>\n",
       "      <td>2018-07-16</td>\n",
       "      <td>15</td>\n",
       "      <td>15232</td>\n",
       "      <td>14105</td>\n",
       "      <td>31</td>\n",
       "      <td>Infzns Crn Crnchers Tangy Gcamole</td>\n",
       "      <td>2</td>\n",
       "      <td>7.6</td>\n",
       "      <td>110</td>\n",
       "    </tr>\n",
       "    <tr>\n",
       "      <th>165182</th>\n",
       "      <td>2019-02-23</td>\n",
       "      <td>188</td>\n",
       "      <td>188196</td>\n",
       "      <td>189534</td>\n",
       "      <td>97</td>\n",
       "      <td>RRD Salt &amp; Vinegar</td>\n",
       "      <td>2</td>\n",
       "      <td>6.0</td>\n",
       "      <td>165</td>\n",
       "    </tr>\n",
       "    <tr>\n",
       "      <th>106998</th>\n",
       "      <td>2019-06-01</td>\n",
       "      <td>105</td>\n",
       "      <td>105090</td>\n",
       "      <td>105827</td>\n",
       "      <td>91</td>\n",
       "      <td>CCs Tasty Cheese</td>\n",
       "      <td>2</td>\n",
       "      <td>4.2</td>\n",
       "      <td>175</td>\n",
       "    </tr>\n",
       "  </tbody>\n",
       "</table>\n",
       "</div>"
      ],
      "text/plain": [
       "             date  store_num  loyalty_card_num  txn_id  product_number  \\\n",
       "198750 2019-04-27        191            191116  192453              75   \n",
       "251458 2019-04-04        173            173168  174586              14   \n",
       "212316 2018-10-25        168            168059  169699             108   \n",
       "168629 2019-04-16        229            229157  231296              50   \n",
       "92443  2019-06-27        167            167337  169160              98   \n",
       "136636 2018-09-16         17             17352   15134               3   \n",
       "106952 2019-05-12        105            105001  105206             111   \n",
       "103109 2018-11-23         55             55067   48847              70   \n",
       "89731  2018-08-28        125            125076  128583              57   \n",
       "180984 2018-09-15        190            190091  190781              57   \n",
       "149318 2018-11-29        250            250231  252423              93   \n",
       "61966  2018-09-12        116            116240  120611              15   \n",
       "217849 2018-07-16         15             15232   14105              31   \n",
       "165182 2019-02-23        188            188196  189534              97   \n",
       "106998 2019-06-01        105            105090  105827              91   \n",
       "\n",
       "                               product_name  product_quantity  total_sales  \\\n",
       "198750            Cobs Popd Sea Salt  Chips                 2          7.6   \n",
       "251458    Smiths Crnkle Chip  Orgnl Big Bag                 2         11.8   \n",
       "212316  Kettle Tortilla ChpsHny&Jlpno Chili                 2          9.2   \n",
       "168629           Tostitos Lightly    Salted                 2          8.8   \n",
       "92443     NCC Sour Cream &    Garden Chives                 2          6.0   \n",
       "136636  Kettle Sensations   Camembert & Fig                 2          9.2   \n",
       "106952     Smiths Chip Thinly  Cut Original                 2          6.0   \n",
       "103109   Tyrrells Crisps     Lightly Salted                 2          8.4   \n",
       "89731   Old El Paso Salsa   Dip Tomato Mild                 2         10.2   \n",
       "180984  Old El Paso Salsa   Dip Tomato Mild                 2         10.2   \n",
       "149318   Doritos Corn Chip Southern Chicken                 2          7.8   \n",
       "61966                       Twisties Cheese                 2          9.2   \n",
       "217849    Infzns Crn Crnchers Tangy Gcamole                 2          7.6   \n",
       "165182                   RRD Salt & Vinegar                 2          6.0   \n",
       "106998                     CCs Tasty Cheese                 2          4.2   \n",
       "\n",
       "        product_weight  \n",
       "198750             110  \n",
       "251458             380  \n",
       "212316             150  \n",
       "168629             175  \n",
       "92443              175  \n",
       "136636             150  \n",
       "106952             175  \n",
       "103109             165  \n",
       "89731              300  \n",
       "180984             300  \n",
       "149318             150  \n",
       "61966              270  \n",
       "217849             110  \n",
       "165182             165  \n",
       "106998             175  "
      ]
     },
     "execution_count": 223,
     "metadata": {},
     "output_type": "execute_result"
    }
   ],
   "source": [
    "data.sample(15)"
   ]
  },
  {
   "cell_type": "markdown",
   "id": "4eb85bc5-9f2f-40da-a5c4-0dbbd861a2e2",
   "metadata": {},
   "source": [
    "## Clean `product_name`"
   ]
  },
  {
   "cell_type": "code",
   "execution_count": 293,
   "id": "c49d103f-b196-472b-b849-aea48bd6081c",
   "metadata": {},
   "outputs": [],
   "source": [
    "names = data.product_name"
   ]
  },
  {
   "cell_type": "code",
   "execution_count": 294,
   "id": "9de115a9-fe4f-400f-a2f1-9153b18f899c",
   "metadata": {},
   "outputs": [
    {
     "data": {
      "text/plain": [
       "87876      Infuzions Thai SweetChili PotatoMix\n",
       "86977                          Cheezels Cheese\n",
       "210712                        Doritos Mexicana\n",
       "208993                      RRD Salt & Vinegar\n",
       "222756     Infuzions SourCream&Herbs Veg Strws\n",
       "186110        Smiths Crinkle Cut  Tomato Salsa\n",
       "165449     Smiths Crinkle Chips Salt & Vinegar\n",
       "134201       Smiths Crnkle Chip  Orgnl Big Bag\n",
       "206615        Grain Waves         Sweet Chilli\n",
       "14176       Red Rock Deli Sp    Salt & Truffle\n",
       "237644             Dorito Corn Chp     Supreme\n",
       "60527      Infuzions SourCream&Herbs Veg Strws\n",
       "98933        Kettle Mozzarella   Basil & Pesto\n",
       "84967       Doritos Corn Chip Southern Chicken\n",
       "121794    Sunbites Whlegrn    Crisps Frch/Onin\n",
       "65937         Grain Waves         Sweet Chilli\n",
       "179123                         Kettle Original\n",
       "205779        Smiths Chip Thinly  Cut Original\n",
       "221670           Smith Crinkle Cut   Bolognese\n",
       "192950            Doritos Corn Chips  Original\n",
       "Name: product_name, dtype: object"
      ]
     },
     "execution_count": 294,
     "metadata": {},
     "output_type": "execute_result"
    }
   ],
   "source": [
    "names.sample(20)"
   ]
  },
  {
   "cell_type": "markdown",
   "id": "1fac022c-fefe-4e79-a698-39b58381e0f5",
   "metadata": {},
   "source": [
    "Make some replacements in the names to expand some abbreviations of ingredients"
   ]
  },
  {
   "cell_type": "code",
   "execution_count": 298,
   "id": "565270ea-8feb-4c31-8bf7-ee027cb5283f",
   "metadata": {},
   "outputs": [],
   "source": [
    "def replace_abbreviations(name):\n",
    "    abbreviations = {'Chps' : 'Chips', 'Chp' : 'Chip', 'Hny' : 'Honey', 'Jlpno' : 'Jalapeno', 'Vinegr' : 'Vinegar', 'Tmato' : 'Tomato', 'Hrb&Spce' : 'Herbs & Spices', 'FriedChicken' : 'Fried Chicken',\n",
    "                    'Frch/Onin' : 'French Onion'}\n",
    "    for i in abbreviations.keys():\n",
    "        if i in name:\n",
    "            name = name.replace(i, abbreviations[i])\n",
    "    return name        "
   ]
  },
  {
   "cell_type": "markdown",
   "id": "78d2543a-7238-4ff4-b91e-f19758d849b2",
   "metadata": {},
   "source": [
    "Function to remove whitespaces"
   ]
  },
  {
   "cell_type": "code",
   "execution_count": 295,
   "id": "eadb8eb8-8d09-4753-a84b-72163a427e44",
   "metadata": {},
   "outputs": [],
   "source": [
    "def remove_whitespaces(string):\n",
    "    string = string.split()\n",
    "    string = ' '.join(string)\n",
    "    return string"
   ]
  },
  {
   "cell_type": "markdown",
   "id": "e54945ac-f510-4f96-beed-b508482b144f",
   "metadata": {},
   "source": [
    "Function to replace ampersand characters without whitespaces"
   ]
  },
  {
   "cell_type": "code",
   "execution_count": 302,
   "id": "4fab808d-2933-4153-8037-0a2600cdf3dd",
   "metadata": {},
   "outputs": [],
   "source": [
    "def replace_ampersand(name):\n",
    "    if '&' in name:\n",
    "        pos = name.find('&')\n",
    "        # ampersand is surrounded by words without whitspace\n",
    "        # no space on the left\n",
    "        if name[pos-1] != ' ':\n",
    "            name = name.replace('&', ' &')\n",
    "        # no space on the right\n",
    "        pos = name.find('&')\n",
    "        if name[pos+1] != ' ':\n",
    "            name = name.replace('&', '& ')\n",
    "    return name"
   ]
  },
  {
   "cell_type": "markdown",
   "id": "fb127b80-53b2-47a8-b6ed-d4c8ae6e5ec2",
   "metadata": {},
   "source": [
    "Apply all functions to name values"
   ]
  },
  {
   "cell_type": "code",
   "execution_count": 303,
   "id": "7437eedb-08b2-44f9-9129-de4e2c1eb319",
   "metadata": {},
   "outputs": [],
   "source": [
    "names = names.apply(remove_whitespaces)\n",
    "names = names.apply(replace_abbreviations)\n",
    "names = names.apply(replace_ampersand)"
   ]
  },
  {
   "cell_type": "markdown",
   "id": "1fe116bf-f040-42d3-b363-f4cac35685a3",
   "metadata": {},
   "source": [
    "Check the results and save to `data`"
   ]
  },
  {
   "cell_type": "code",
   "execution_count": 304,
   "id": "8948ed19-38e8-4713-8f1c-1c70393125de",
   "metadata": {},
   "outputs": [
    {
     "data": {
      "text/plain": [
       "199291                  Tostitos Splash Of Lime\n",
       "49816                 Pringles Sweet & Spcy BBQ\n",
       "11008      Sunbites Whlegrn Crisps French Onion\n",
       "101627         Old El Paso Salsa Dip Tomato Med\n",
       "63667                              Burger Rings\n",
       "242717       Red Rock Deli Chikn & Garlic Aioli\n",
       "14099             Tyrrells Crisps Ched & Chives\n",
       "144581                Pringles Sweet & Spcy BBQ\n",
       "62321     Kettle Tortilla ChipsBtroot & Ricotta\n",
       "191867          Red Rock Deli Sp Salt & Truffle\n",
       "127245                          RRD Pc Sea Salt\n",
       "86105                  Pringles Mystery Flavour\n",
       "6341                              Kettle Chilli\n",
       "51535        Kettle Sweet Chilli And Sour Cream\n",
       "85410               Pringles Chicken Salt Crips\n",
       "259735          Smiths Chip Thinly Cut Original\n",
       "105195       Doritos Corn Chip Southern Chicken\n",
       "25286          Smiths Crnkle Chip Orgnl Big Bag\n",
       "222344           Kettle Sensations Siracha Lime\n",
       "108971                  Kettle Swt Pot Sea Salt\n",
       "Name: product_name, dtype: object"
      ]
     },
     "execution_count": 304,
     "metadata": {},
     "output_type": "execute_result"
    }
   ],
   "source": [
    "names.sample(20)"
   ]
  },
  {
   "cell_type": "code",
   "execution_count": 306,
   "id": "c3b7985b-6497-4ea0-852c-ab24d29d005c",
   "metadata": {},
   "outputs": [],
   "source": [
    "data.product_name = names"
   ]
  },
  {
   "cell_type": "code",
   "execution_count": 307,
   "id": "d3717696-3db2-45f7-b3c7-671a96524e4f",
   "metadata": {},
   "outputs": [
    {
     "data": {
      "text/html": [
       "<div>\n",
       "<style scoped>\n",
       "    .dataframe tbody tr th:only-of-type {\n",
       "        vertical-align: middle;\n",
       "    }\n",
       "\n",
       "    .dataframe tbody tr th {\n",
       "        vertical-align: top;\n",
       "    }\n",
       "\n",
       "    .dataframe thead th {\n",
       "        text-align: right;\n",
       "    }\n",
       "</style>\n",
       "<table border=\"1\" class=\"dataframe\">\n",
       "  <thead>\n",
       "    <tr style=\"text-align: right;\">\n",
       "      <th></th>\n",
       "      <th>date</th>\n",
       "      <th>store_num</th>\n",
       "      <th>loyalty_card_num</th>\n",
       "      <th>txn_id</th>\n",
       "      <th>product_number</th>\n",
       "      <th>product_name</th>\n",
       "      <th>product_quantity</th>\n",
       "      <th>total_sales</th>\n",
       "      <th>product_weight</th>\n",
       "    </tr>\n",
       "  </thead>\n",
       "  <tbody>\n",
       "    <tr>\n",
       "      <th>206184</th>\n",
       "      <td>2019-04-26</td>\n",
       "      <td>43</td>\n",
       "      <td>43092</td>\n",
       "      <td>39218</td>\n",
       "      <td>113</td>\n",
       "      <td>Twisties Chicken</td>\n",
       "      <td>2</td>\n",
       "      <td>9.2</td>\n",
       "      <td>270</td>\n",
       "    </tr>\n",
       "    <tr>\n",
       "      <th>21300</th>\n",
       "      <td>2018-09-14</td>\n",
       "      <td>138</td>\n",
       "      <td>138152</td>\n",
       "      <td>141438</td>\n",
       "      <td>114</td>\n",
       "      <td>Kettle Sensations Siracha Lime</td>\n",
       "      <td>2</td>\n",
       "      <td>9.2</td>\n",
       "      <td>150</td>\n",
       "    </tr>\n",
       "    <tr>\n",
       "      <th>242059</th>\n",
       "      <td>2019-02-10</td>\n",
       "      <td>47</td>\n",
       "      <td>47479</td>\n",
       "      <td>43012</td>\n",
       "      <td>26</td>\n",
       "      <td>Pringles Sweet &amp; Spcy BBQ</td>\n",
       "      <td>2</td>\n",
       "      <td>7.4</td>\n",
       "      <td>134</td>\n",
       "    </tr>\n",
       "    <tr>\n",
       "      <th>31036</th>\n",
       "      <td>2019-04-20</td>\n",
       "      <td>89</td>\n",
       "      <td>89440</td>\n",
       "      <td>88600</td>\n",
       "      <td>99</td>\n",
       "      <td>Pringles Sthrn Fried Chicken</td>\n",
       "      <td>2</td>\n",
       "      <td>7.4</td>\n",
       "      <td>134</td>\n",
       "    </tr>\n",
       "    <tr>\n",
       "      <th>230539</th>\n",
       "      <td>2019-02-12</td>\n",
       "      <td>51</td>\n",
       "      <td>51098</td>\n",
       "      <td>46801</td>\n",
       "      <td>23</td>\n",
       "      <td>Cheezels Cheese</td>\n",
       "      <td>1</td>\n",
       "      <td>5.7</td>\n",
       "      <td>330</td>\n",
       "    </tr>\n",
       "    <tr>\n",
       "      <th>127206</th>\n",
       "      <td>2019-03-26</td>\n",
       "      <td>145</td>\n",
       "      <td>145344</td>\n",
       "      <td>145630</td>\n",
       "      <td>62</td>\n",
       "      <td>Pringles Mystery Flavour</td>\n",
       "      <td>1</td>\n",
       "      <td>3.7</td>\n",
       "      <td>134</td>\n",
       "    </tr>\n",
       "    <tr>\n",
       "      <th>219193</th>\n",
       "      <td>2019-03-17</td>\n",
       "      <td>55</td>\n",
       "      <td>55100</td>\n",
       "      <td>49053</td>\n",
       "      <td>77</td>\n",
       "      <td>Doritos Corn Chips Nacho Cheese</td>\n",
       "      <td>2</td>\n",
       "      <td>8.8</td>\n",
       "      <td>170</td>\n",
       "    </tr>\n",
       "    <tr>\n",
       "      <th>105356</th>\n",
       "      <td>2018-09-03</td>\n",
       "      <td>81</td>\n",
       "      <td>81275</td>\n",
       "      <td>80960</td>\n",
       "      <td>59</td>\n",
       "      <td>Old El Paso Salsa Dip Tomato Med</td>\n",
       "      <td>2</td>\n",
       "      <td>10.2</td>\n",
       "      <td>300</td>\n",
       "    </tr>\n",
       "    <tr>\n",
       "      <th>198817</th>\n",
       "      <td>2018-08-09</td>\n",
       "      <td>194</td>\n",
       "      <td>194235</td>\n",
       "      <td>194213</td>\n",
       "      <td>42</td>\n",
       "      <td>Doritos Corn Chip Mexican Jalapeno</td>\n",
       "      <td>2</td>\n",
       "      <td>7.8</td>\n",
       "      <td>150</td>\n",
       "    </tr>\n",
       "    <tr>\n",
       "      <th>119318</th>\n",
       "      <td>2019-04-15</td>\n",
       "      <td>23</td>\n",
       "      <td>23072</td>\n",
       "      <td>19186</td>\n",
       "      <td>59</td>\n",
       "      <td>Old El Paso Salsa Dip Tomato Med</td>\n",
       "      <td>2</td>\n",
       "      <td>10.2</td>\n",
       "      <td>300</td>\n",
       "    </tr>\n",
       "  </tbody>\n",
       "</table>\n",
       "</div>"
      ],
      "text/plain": [
       "             date  store_num  loyalty_card_num  txn_id  product_number  \\\n",
       "206184 2019-04-26         43             43092   39218             113   \n",
       "21300  2018-09-14        138            138152  141438             114   \n",
       "242059 2019-02-10         47             47479   43012              26   \n",
       "31036  2019-04-20         89             89440   88600              99   \n",
       "230539 2019-02-12         51             51098   46801              23   \n",
       "127206 2019-03-26        145            145344  145630              62   \n",
       "219193 2019-03-17         55             55100   49053              77   \n",
       "105356 2018-09-03         81             81275   80960              59   \n",
       "198817 2018-08-09        194            194235  194213              42   \n",
       "119318 2019-04-15         23             23072   19186              59   \n",
       "\n",
       "                              product_name  product_quantity  total_sales  \\\n",
       "206184                    Twisties Chicken                 2          9.2   \n",
       "21300       Kettle Sensations Siracha Lime                 2          9.2   \n",
       "242059           Pringles Sweet & Spcy BBQ                 2          7.4   \n",
       "31036         Pringles Sthrn Fried Chicken                 2          7.4   \n",
       "230539                     Cheezels Cheese                 1          5.7   \n",
       "127206            Pringles Mystery Flavour                 1          3.7   \n",
       "219193     Doritos Corn Chips Nacho Cheese                 2          8.8   \n",
       "105356    Old El Paso Salsa Dip Tomato Med                 2         10.2   \n",
       "198817  Doritos Corn Chip Mexican Jalapeno                 2          7.8   \n",
       "119318    Old El Paso Salsa Dip Tomato Med                 2         10.2   \n",
       "\n",
       "        product_weight  \n",
       "206184             270  \n",
       "21300              150  \n",
       "242059             134  \n",
       "31036              134  \n",
       "230539             330  \n",
       "127206             134  \n",
       "219193             170  \n",
       "105356             300  \n",
       "198817             150  \n",
       "119318             300  "
      ]
     },
     "execution_count": 307,
     "metadata": {},
     "output_type": "execute_result"
    }
   ],
   "source": [
    "data.sample(10)"
   ]
  },
  {
   "cell_type": "markdown",
   "id": "2a8c283c-bd93-45ef-88c6-e99f7aa22a04",
   "metadata": {},
   "source": [
    "## After the cleaning, everything looks fine."
   ]
  },
  {
   "cell_type": "markdown",
   "id": "735fb35e-eb42-4b95-b11e-d916746fabdd",
   "metadata": {},
   "source": [
    "I will create a copy of this dataset, but using instead the whole dataset. In this case I used a sample 40% the size of the raw data."
   ]
  },
  {
   "cell_type": "code",
   "execution_count": null,
   "id": "08897f11-0ae2-47d3-a48b-e3cd94737ef5",
   "metadata": {},
   "outputs": [],
   "source": []
  }
 ],
 "metadata": {
  "kernelspec": {
   "display_name": "Python 3 (ipykernel)",
   "language": "python",
   "name": "python3"
  },
  "language_info": {
   "codemirror_mode": {
    "name": "ipython",
    "version": 3
   },
   "file_extension": ".py",
   "mimetype": "text/x-python",
   "name": "python",
   "nbconvert_exporter": "python",
   "pygments_lexer": "ipython3",
   "version": "3.10.8"
  }
 },
 "nbformat": 4,
 "nbformat_minor": 5
}
